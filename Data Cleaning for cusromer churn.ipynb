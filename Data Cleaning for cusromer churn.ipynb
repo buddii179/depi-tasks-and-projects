{
  "metadata": {
    "kernelspec": {
      "name": "python",
      "display_name": "Python (Pyodide)",
      "language": "python"
    },
    "language_info": {
      "codemirror_mode": {
        "name": "python",
        "version": 3
      },
      "file_extension": ".py",
      "mimetype": "text/x-python",
      "name": "python",
      "nbconvert_exporter": "python",
      "pygments_lexer": "ipython3",
      "version": "3.8"
    }
  },
  "nbformat_minor": 5,
  "nbformat": 4,
  "cells": [
    {
      "id": "9ee94e8f-79ee-4a12-a34d-39b61547c3eb",
      "cell_type": "code",
      "source": "import pandas as pd\nimport numpy as np",
      "metadata": {
        "trusted": true
      },
      "outputs": [],
      "execution_count": 41
    },
    {
      "id": "cb1a59c6-f6fa-4b3e-a69f-646745a0393c",
      "cell_type": "code",
      "source": "df_main=pd.read_csv(\"customer_churn_dataset-testing-master.csv\")",
      "metadata": {
        "trusted": true
      },
      "outputs": [],
      "execution_count": 44
    },
    {
      "id": "232b3f90-46d6-4703-acf7-37d6e764aef5",
      "cell_type": "code",
      "source": "df=df_main.copy()\ndf.head()",
      "metadata": {
        "trusted": true
      },
      "outputs": [
        {
          "execution_count": 45,
          "output_type": "execute_result",
          "data": {
            "text/plain": "   CustomerID  Age  Gender  Tenure  Usage Frequency  Support Calls  \\\n0           1   22  Female      25               14              4   \n1           2   41  Female      28               28              7   \n2           3   47    Male      27               10              2   \n3           4   35    Male       9               12              5   \n4           5   53  Female      58               24              9   \n\n   Payment Delay Subscription Type Contract Length  Total Spend  \\\n0             27             Basic         Monthly          598   \n1             13          Standard         Monthly          584   \n2             29           Premium          Annual          757   \n3             17           Premium       Quarterly          232   \n4              2          Standard          Annual          533   \n\n   Last Interaction  Churn  \n0                 9      1  \n1                20      0  \n2                21      0  \n3                18      0  \n4                18      0  ",
            "text/html": "<div>\n<style scoped>\n    .dataframe tbody tr th:only-of-type {\n        vertical-align: middle;\n    }\n\n    .dataframe tbody tr th {\n        vertical-align: top;\n    }\n\n    .dataframe thead th {\n        text-align: right;\n    }\n</style>\n<table border=\"1\" class=\"dataframe\">\n  <thead>\n    <tr style=\"text-align: right;\">\n      <th></th>\n      <th>CustomerID</th>\n      <th>Age</th>\n      <th>Gender</th>\n      <th>Tenure</th>\n      <th>Usage Frequency</th>\n      <th>Support Calls</th>\n      <th>Payment Delay</th>\n      <th>Subscription Type</th>\n      <th>Contract Length</th>\n      <th>Total Spend</th>\n      <th>Last Interaction</th>\n      <th>Churn</th>\n    </tr>\n  </thead>\n  <tbody>\n    <tr>\n      <th>0</th>\n      <td>1</td>\n      <td>22</td>\n      <td>Female</td>\n      <td>25</td>\n      <td>14</td>\n      <td>4</td>\n      <td>27</td>\n      <td>Basic</td>\n      <td>Monthly</td>\n      <td>598</td>\n      <td>9</td>\n      <td>1</td>\n    </tr>\n    <tr>\n      <th>1</th>\n      <td>2</td>\n      <td>41</td>\n      <td>Female</td>\n      <td>28</td>\n      <td>28</td>\n      <td>7</td>\n      <td>13</td>\n      <td>Standard</td>\n      <td>Monthly</td>\n      <td>584</td>\n      <td>20</td>\n      <td>0</td>\n    </tr>\n    <tr>\n      <th>2</th>\n      <td>3</td>\n      <td>47</td>\n      <td>Male</td>\n      <td>27</td>\n      <td>10</td>\n      <td>2</td>\n      <td>29</td>\n      <td>Premium</td>\n      <td>Annual</td>\n      <td>757</td>\n      <td>21</td>\n      <td>0</td>\n    </tr>\n    <tr>\n      <th>3</th>\n      <td>4</td>\n      <td>35</td>\n      <td>Male</td>\n      <td>9</td>\n      <td>12</td>\n      <td>5</td>\n      <td>17</td>\n      <td>Premium</td>\n      <td>Quarterly</td>\n      <td>232</td>\n      <td>18</td>\n      <td>0</td>\n    </tr>\n    <tr>\n      <th>4</th>\n      <td>5</td>\n      <td>53</td>\n      <td>Female</td>\n      <td>58</td>\n      <td>24</td>\n      <td>9</td>\n      <td>2</td>\n      <td>Standard</td>\n      <td>Annual</td>\n      <td>533</td>\n      <td>18</td>\n      <td>0</td>\n    </tr>\n  </tbody>\n</table>\n</div>"
          },
          "metadata": {}
        }
      ],
      "execution_count": 45
    },
    {
      "id": "ca664c08-c3ef-4f11-8baf-0388fd951d2f",
      "cell_type": "code",
      "source": "df.shape",
      "metadata": {
        "trusted": true
      },
      "outputs": [
        {
          "execution_count": 46,
          "output_type": "execute_result",
          "data": {
            "text/plain": "(64374, 12)"
          },
          "metadata": {}
        }
      ],
      "execution_count": 46
    },
    {
      "id": "726d7009-11ee-473e-96e1-2b73766e4ca2",
      "cell_type": "code",
      "source": "df.info()",
      "metadata": {
        "trusted": true
      },
      "outputs": [
        {
          "name": "stdout",
          "output_type": "stream",
          "text": "<class 'pandas.core.frame.DataFrame'>\nRangeIndex: 64374 entries, 0 to 64373\nData columns (total 12 columns):\n #   Column             Non-Null Count  Dtype \n---  ------             --------------  ----- \n 0   CustomerID         64374 non-null  int64 \n 1   Age                64374 non-null  int64 \n 2   Gender             64374 non-null  object\n 3   Tenure             64374 non-null  int64 \n 4   Usage Frequency    64374 non-null  int64 \n 5   Support Calls      64374 non-null  int64 \n 6   Payment Delay      64374 non-null  int64 \n 7   Subscription Type  64374 non-null  object\n 8   Contract Length    64374 non-null  object\n 9   Total Spend        64374 non-null  int64 \n 10  Last Interaction   64374 non-null  int64 \n 11  Churn              64374 non-null  int64 \ndtypes: int64(9), object(3)\nmemory usage: 5.2+ MB\n"
        }
      ],
      "execution_count": 47
    },
    {
      "id": "0d9445ab-f7f1-43e5-a1b3-74dce81cac50",
      "cell_type": "code",
      "source": "df.isnull().sum()",
      "metadata": {
        "trusted": true
      },
      "outputs": [
        {
          "execution_count": 48,
          "output_type": "execute_result",
          "data": {
            "text/plain": "CustomerID           0\nAge                  0\nGender               0\nTenure               0\nUsage Frequency      0\nSupport Calls        0\nPayment Delay        0\nSubscription Type    0\nContract Length      0\nTotal Spend          0\nLast Interaction     0\nChurn                0\ndtype: int64"
          },
          "metadata": {}
        }
      ],
      "execution_count": 48
    },
    {
      "id": "0ffe7dbb-bf22-483a-94c0-d95fd14106a4",
      "cell_type": "code",
      "source": "df[\"Churn\"].value_counts()",
      "metadata": {
        "trusted": true
      },
      "outputs": [
        {
          "execution_count": 49,
          "output_type": "execute_result",
          "data": {
            "text/plain": "Churn\n0    33881\n1    30493\nName: count, dtype: int64"
          },
          "metadata": {}
        }
      ],
      "execution_count": 49
    },
    {
      "id": "b523aac7-eb24-40bd-ade2-07810334e44d",
      "cell_type": "code",
      "source": "100*df.Churn.value_counts()/len(df.Churn)",
      "metadata": {
        "trusted": true
      },
      "outputs": [
        {
          "execution_count": 52,
          "output_type": "execute_result",
          "data": {
            "text/plain": "Churn\n0    52.631497\n1    47.368503\nName: count, dtype: float64"
          },
          "metadata": {}
        }
      ],
      "execution_count": 52
    },
    {
      "id": "22865298-38e1-4aa5-83aa-de53b159c063",
      "cell_type": "code",
      "source": "df.columns",
      "metadata": {
        "trusted": true
      },
      "outputs": [
        {
          "execution_count": 53,
          "output_type": "execute_result",
          "data": {
            "text/plain": "Index(['CustomerID', 'Age', 'Gender', 'Tenure', 'Usage Frequency',\n       'Support Calls', 'Payment Delay', 'Subscription Type',\n       'Contract Length', 'Total Spend', 'Last Interaction', 'Churn'],\n      dtype='object')"
          },
          "metadata": {}
        }
      ],
      "execution_count": 53
    },
    {
      "id": "1a3112ac-8602-474b-887f-3046c876fba1",
      "cell_type": "code",
      "source": "for column in df.columns:\n    print(f\"{column} => {df[column].value_counts().shape}\")\n ",
      "metadata": {
        "trusted": true
      },
      "outputs": [
        {
          "name": "stdout",
          "output_type": "stream",
          "text": "CustomerID => (64374,)\nAge => (48,)\nGender => (2,)\nTenure => (60,)\nUsage Frequency => (30,)\nSupport Calls => (11,)\nPayment Delay => (31,)\nSubscription Type => (3,)\nContract Length => (3,)\nTotal Spend => (901,)\nLast Interaction => (30,)\nChurn => (2,)\n"
        }
      ],
      "execution_count": 54
    },
    {
      "id": "924a70ca-4a9e-4841-9683-d70d44fe99bd",
      "cell_type": "code",
      "source": "# Binning => Tenure\nmax_val = df['Tenure'].max()\nmin_val = df['Tenure'].min()\nlabels = [\"{0} - {1}\".format(i, i + 11) for i in range(min_val, max_val, 12)]\ndf['tenure_group'] = pd.cut(df.Tenure, range(min_val, max_val+10, 12), right=False, labels=labels)\ndf['tenure_group'].value_counts()\n",
      "metadata": {
        "trusted": true
      },
      "outputs": [
        {
          "execution_count": 56,
          "output_type": "execute_result",
          "data": {
            "text/plain": "tenure_group\n49 - 60    13995\n37 - 48    13968\n25 - 36    13764\n1 - 12     11360\n13 - 24    11287\nName: count, dtype: int64"
          },
          "metadata": {}
        }
      ],
      "execution_count": 56
    },
    {
      "id": "0b39bb09-80f2-4fea-a3df-14359f66dbda",
      "cell_type": "code",
      "source": "df.head()",
      "metadata": {
        "trusted": true
      },
      "outputs": [
        {
          "execution_count": 57,
          "output_type": "execute_result",
          "data": {
            "text/plain": "   CustomerID  Age  Gender  Tenure  Usage Frequency  Support Calls  \\\n0           1   22  Female      25               14              4   \n1           2   41  Female      28               28              7   \n2           3   47    Male      27               10              2   \n3           4   35    Male       9               12              5   \n4           5   53  Female      58               24              9   \n\n   Payment Delay Subscription Type Contract Length  Total Spend  \\\n0             27             Basic         Monthly          598   \n1             13          Standard         Monthly          584   \n2             29           Premium          Annual          757   \n3             17           Premium       Quarterly          232   \n4              2          Standard          Annual          533   \n\n   Last Interaction  Churn tenure_group  \n0                 9      1      25 - 36  \n1                20      0      25 - 36  \n2                21      0      25 - 36  \n3                18      0       1 - 12  \n4                18      0      49 - 60  ",
            "text/html": "<div>\n<style scoped>\n    .dataframe tbody tr th:only-of-type {\n        vertical-align: middle;\n    }\n\n    .dataframe tbody tr th {\n        vertical-align: top;\n    }\n\n    .dataframe thead th {\n        text-align: right;\n    }\n</style>\n<table border=\"1\" class=\"dataframe\">\n  <thead>\n    <tr style=\"text-align: right;\">\n      <th></th>\n      <th>CustomerID</th>\n      <th>Age</th>\n      <th>Gender</th>\n      <th>Tenure</th>\n      <th>Usage Frequency</th>\n      <th>Support Calls</th>\n      <th>Payment Delay</th>\n      <th>Subscription Type</th>\n      <th>Contract Length</th>\n      <th>Total Spend</th>\n      <th>Last Interaction</th>\n      <th>Churn</th>\n      <th>tenure_group</th>\n    </tr>\n  </thead>\n  <tbody>\n    <tr>\n      <th>0</th>\n      <td>1</td>\n      <td>22</td>\n      <td>Female</td>\n      <td>25</td>\n      <td>14</td>\n      <td>4</td>\n      <td>27</td>\n      <td>Basic</td>\n      <td>Monthly</td>\n      <td>598</td>\n      <td>9</td>\n      <td>1</td>\n      <td>25 - 36</td>\n    </tr>\n    <tr>\n      <th>1</th>\n      <td>2</td>\n      <td>41</td>\n      <td>Female</td>\n      <td>28</td>\n      <td>28</td>\n      <td>7</td>\n      <td>13</td>\n      <td>Standard</td>\n      <td>Monthly</td>\n      <td>584</td>\n      <td>20</td>\n      <td>0</td>\n      <td>25 - 36</td>\n    </tr>\n    <tr>\n      <th>2</th>\n      <td>3</td>\n      <td>47</td>\n      <td>Male</td>\n      <td>27</td>\n      <td>10</td>\n      <td>2</td>\n      <td>29</td>\n      <td>Premium</td>\n      <td>Annual</td>\n      <td>757</td>\n      <td>21</td>\n      <td>0</td>\n      <td>25 - 36</td>\n    </tr>\n    <tr>\n      <th>3</th>\n      <td>4</td>\n      <td>35</td>\n      <td>Male</td>\n      <td>9</td>\n      <td>12</td>\n      <td>5</td>\n      <td>17</td>\n      <td>Premium</td>\n      <td>Quarterly</td>\n      <td>232</td>\n      <td>18</td>\n      <td>0</td>\n      <td>1 - 12</td>\n    </tr>\n    <tr>\n      <th>4</th>\n      <td>5</td>\n      <td>53</td>\n      <td>Female</td>\n      <td>58</td>\n      <td>24</td>\n      <td>9</td>\n      <td>2</td>\n      <td>Standard</td>\n      <td>Annual</td>\n      <td>533</td>\n      <td>18</td>\n      <td>0</td>\n      <td>49 - 60</td>\n    </tr>\n  </tbody>\n</table>\n</div>"
          },
          "metadata": {}
        }
      ],
      "execution_count": 57
    },
    {
      "id": "f6986929-b5ab-4578-81f4-ca23e4517f0f",
      "cell_type": "code",
      "source": "#binning the age\nbins = [18, 25, 35, 45, 55, 65]\nlabels = [\"18-25\", \"26-35\", \"36-45\", \"46-55\", \"56-65\"]\ndf['age_group'] = pd.cut(df['Age'], bins=bins, labels=labels, right=True)\n",
      "metadata": {
        "trusted": true
      },
      "outputs": [],
      "execution_count": 61
    },
    {
      "id": "8bf5844d-da46-409f-b59a-777f8c77ac45",
      "cell_type": "code",
      "source": "df.head()",
      "metadata": {
        "trusted": true
      },
      "outputs": [
        {
          "execution_count": 60,
          "output_type": "execute_result",
          "data": {
            "text/plain": "   CustomerID  Age  Gender  Tenure  Usage Frequency  Support Calls  \\\n0           1   22  Female      25               14              4   \n1           2   41  Female      28               28              7   \n2           3   47    Male      27               10              2   \n3           4   35    Male       9               12              5   \n4           5   53  Female      58               24              9   \n\n   Payment Delay Subscription Type Contract Length  Total Spend  \\\n0             27             Basic         Monthly          598   \n1             13          Standard         Monthly          584   \n2             29           Premium          Annual          757   \n3             17           Premium       Quarterly          232   \n4              2          Standard          Annual          533   \n\n   Last Interaction  Churn tenure_group age_group  \n0                 9      1      25 - 36     18-25  \n1                20      0      25 - 36     36-45  \n2                21      0      25 - 36     46-55  \n3                18      0       1 - 12     26-35  \n4                18      0      49 - 60     46-55  ",
            "text/html": "<div>\n<style scoped>\n    .dataframe tbody tr th:only-of-type {\n        vertical-align: middle;\n    }\n\n    .dataframe tbody tr th {\n        vertical-align: top;\n    }\n\n    .dataframe thead th {\n        text-align: right;\n    }\n</style>\n<table border=\"1\" class=\"dataframe\">\n  <thead>\n    <tr style=\"text-align: right;\">\n      <th></th>\n      <th>CustomerID</th>\n      <th>Age</th>\n      <th>Gender</th>\n      <th>Tenure</th>\n      <th>Usage Frequency</th>\n      <th>Support Calls</th>\n      <th>Payment Delay</th>\n      <th>Subscription Type</th>\n      <th>Contract Length</th>\n      <th>Total Spend</th>\n      <th>Last Interaction</th>\n      <th>Churn</th>\n      <th>tenure_group</th>\n      <th>age_group</th>\n    </tr>\n  </thead>\n  <tbody>\n    <tr>\n      <th>0</th>\n      <td>1</td>\n      <td>22</td>\n      <td>Female</td>\n      <td>25</td>\n      <td>14</td>\n      <td>4</td>\n      <td>27</td>\n      <td>Basic</td>\n      <td>Monthly</td>\n      <td>598</td>\n      <td>9</td>\n      <td>1</td>\n      <td>25 - 36</td>\n      <td>18-25</td>\n    </tr>\n    <tr>\n      <th>1</th>\n      <td>2</td>\n      <td>41</td>\n      <td>Female</td>\n      <td>28</td>\n      <td>28</td>\n      <td>7</td>\n      <td>13</td>\n      <td>Standard</td>\n      <td>Monthly</td>\n      <td>584</td>\n      <td>20</td>\n      <td>0</td>\n      <td>25 - 36</td>\n      <td>36-45</td>\n    </tr>\n    <tr>\n      <th>2</th>\n      <td>3</td>\n      <td>47</td>\n      <td>Male</td>\n      <td>27</td>\n      <td>10</td>\n      <td>2</td>\n      <td>29</td>\n      <td>Premium</td>\n      <td>Annual</td>\n      <td>757</td>\n      <td>21</td>\n      <td>0</td>\n      <td>25 - 36</td>\n      <td>46-55</td>\n    </tr>\n    <tr>\n      <th>3</th>\n      <td>4</td>\n      <td>35</td>\n      <td>Male</td>\n      <td>9</td>\n      <td>12</td>\n      <td>5</td>\n      <td>17</td>\n      <td>Premium</td>\n      <td>Quarterly</td>\n      <td>232</td>\n      <td>18</td>\n      <td>0</td>\n      <td>1 - 12</td>\n      <td>26-35</td>\n    </tr>\n    <tr>\n      <th>4</th>\n      <td>5</td>\n      <td>53</td>\n      <td>Female</td>\n      <td>58</td>\n      <td>24</td>\n      <td>9</td>\n      <td>2</td>\n      <td>Standard</td>\n      <td>Annual</td>\n      <td>533</td>\n      <td>18</td>\n      <td>0</td>\n      <td>49 - 60</td>\n      <td>46-55</td>\n    </tr>\n  </tbody>\n</table>\n</div>"
          },
          "metadata": {}
        }
      ],
      "execution_count": 60
    },
    {
      "id": "fd3d5057-ee97-40bb-a00a-c2538027a7a9",
      "cell_type": "code",
      "source": "#dropping the customer id and tenure columns\ndf.drop([\"CustomerID\",\"Tenure\"],axis=1,inplace=True)\ndf.head()",
      "metadata": {
        "trusted": true
      },
      "outputs": [
        {
          "execution_count": 69,
          "output_type": "execute_result",
          "data": {
            "text/plain": "   Age  Gender  Usage Frequency  Support Calls  Payment Delay  \\\n0   22  Female               14              4             27   \n1   41  Female               28              7             13   \n2   47    Male               10              2             29   \n3   35    Male               12              5             17   \n4   53  Female               24              9              2   \n\n  Subscription Type Contract Length  Total Spend  Last Interaction  Churn  \\\n0             Basic         Monthly          598                 9      1   \n1          Standard         Monthly          584                20      0   \n2           Premium          Annual          757                21      0   \n3           Premium       Quarterly          232                18      0   \n4          Standard          Annual          533                18      0   \n\n  tenure_group age_group  \n0      25 - 36     18-25  \n1      25 - 36     36-45  \n2      25 - 36     46-55  \n3       1 - 12     26-35  \n4      49 - 60     46-55  ",
            "text/html": "<div>\n<style scoped>\n    .dataframe tbody tr th:only-of-type {\n        vertical-align: middle;\n    }\n\n    .dataframe tbody tr th {\n        vertical-align: top;\n    }\n\n    .dataframe thead th {\n        text-align: right;\n    }\n</style>\n<table border=\"1\" class=\"dataframe\">\n  <thead>\n    <tr style=\"text-align: right;\">\n      <th></th>\n      <th>Age</th>\n      <th>Gender</th>\n      <th>Usage Frequency</th>\n      <th>Support Calls</th>\n      <th>Payment Delay</th>\n      <th>Subscription Type</th>\n      <th>Contract Length</th>\n      <th>Total Spend</th>\n      <th>Last Interaction</th>\n      <th>Churn</th>\n      <th>tenure_group</th>\n      <th>age_group</th>\n    </tr>\n  </thead>\n  <tbody>\n    <tr>\n      <th>0</th>\n      <td>22</td>\n      <td>Female</td>\n      <td>14</td>\n      <td>4</td>\n      <td>27</td>\n      <td>Basic</td>\n      <td>Monthly</td>\n      <td>598</td>\n      <td>9</td>\n      <td>1</td>\n      <td>25 - 36</td>\n      <td>18-25</td>\n    </tr>\n    <tr>\n      <th>1</th>\n      <td>41</td>\n      <td>Female</td>\n      <td>28</td>\n      <td>7</td>\n      <td>13</td>\n      <td>Standard</td>\n      <td>Monthly</td>\n      <td>584</td>\n      <td>20</td>\n      <td>0</td>\n      <td>25 - 36</td>\n      <td>36-45</td>\n    </tr>\n    <tr>\n      <th>2</th>\n      <td>47</td>\n      <td>Male</td>\n      <td>10</td>\n      <td>2</td>\n      <td>29</td>\n      <td>Premium</td>\n      <td>Annual</td>\n      <td>757</td>\n      <td>21</td>\n      <td>0</td>\n      <td>25 - 36</td>\n      <td>46-55</td>\n    </tr>\n    <tr>\n      <th>3</th>\n      <td>35</td>\n      <td>Male</td>\n      <td>12</td>\n      <td>5</td>\n      <td>17</td>\n      <td>Premium</td>\n      <td>Quarterly</td>\n      <td>232</td>\n      <td>18</td>\n      <td>0</td>\n      <td>1 - 12</td>\n      <td>26-35</td>\n    </tr>\n    <tr>\n      <th>4</th>\n      <td>53</td>\n      <td>Female</td>\n      <td>24</td>\n      <td>9</td>\n      <td>2</td>\n      <td>Standard</td>\n      <td>Annual</td>\n      <td>533</td>\n      <td>18</td>\n      <td>0</td>\n      <td>49 - 60</td>\n      <td>46-55</td>\n    </tr>\n  </tbody>\n</table>\n</div>"
          },
          "metadata": {}
        }
      ],
      "execution_count": 69
    }
  ]
}