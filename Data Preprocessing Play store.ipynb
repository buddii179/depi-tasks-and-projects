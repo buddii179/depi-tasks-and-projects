{
 "cells": [
  {
   "cell_type": "code",
   "execution_count": 995,
   "id": "2a357cb1-5c72-4d45-b20e-9e1bcc1755e4",
   "metadata": {},
   "outputs": [],
   "source": [
    "import pandas as pd\n",
    "import numpy as np\n",
    "import matplotlib.pyplot as plt\n"
   ]
  },
  {
   "cell_type": "code",
   "execution_count": 997,
   "id": "b8910fbc-dd6e-4894-aee3-18a3f2da57e5",
   "metadata": {},
   "outputs": [],
   "source": [
    "df_main=pd.read_csv(\"googleplaystore (1).csv\")\n",
    "df=df_main.copy()"
   ]
  },
  {
   "cell_type": "code",
   "execution_count": 1127,
   "id": "0829dddf-05c4-4f79-907a-55df014cb93c",
   "metadata": {},
   "outputs": [
    {
     "data": {
      "text/html": [
       "<div>\n",
       "<style scoped>\n",
       "    .dataframe tbody tr th:only-of-type {\n",
       "        vertical-align: middle;\n",
       "    }\n",
       "\n",
       "    .dataframe tbody tr th {\n",
       "        vertical-align: top;\n",
       "    }\n",
       "\n",
       "    .dataframe thead th {\n",
       "        text-align: right;\n",
       "    }\n",
       "</style>\n",
       "<table border=\"1\" class=\"dataframe\">\n",
       "  <thead>\n",
       "    <tr style=\"text-align: right;\">\n",
       "      <th></th>\n",
       "      <th>App</th>\n",
       "      <th>Category</th>\n",
       "      <th>Rating</th>\n",
       "      <th>Reviews</th>\n",
       "      <th>Size</th>\n",
       "      <th>Installs</th>\n",
       "      <th>Type</th>\n",
       "      <th>Price</th>\n",
       "      <th>Content Rating</th>\n",
       "      <th>Genres</th>\n",
       "      <th>Last Updated</th>\n",
       "      <th>Current Ver</th>\n",
       "      <th>Android Ver</th>\n",
       "    </tr>\n",
       "  </thead>\n",
       "  <tbody>\n",
       "    <tr>\n",
       "      <th>0</th>\n",
       "      <td>Photo Editor &amp; Candy Camera &amp; Grid &amp; ScrapBook</td>\n",
       "      <td>ART_AND_DESIGN</td>\n",
       "      <td>4.1</td>\n",
       "      <td>159.0</td>\n",
       "      <td>19.0</td>\n",
       "      <td>10000</td>\n",
       "      <td>Free</td>\n",
       "      <td>0.0</td>\n",
       "      <td>Everyone</td>\n",
       "      <td>Art &amp; Design</td>\n",
       "      <td>2018-01-07</td>\n",
       "      <td>1.0</td>\n",
       "      <td>4.0</td>\n",
       "    </tr>\n",
       "    <tr>\n",
       "      <th>1</th>\n",
       "      <td>Coloring book moana</td>\n",
       "      <td>ART_AND_DESIGN</td>\n",
       "      <td>3.9</td>\n",
       "      <td>967.0</td>\n",
       "      <td>14.0</td>\n",
       "      <td>500000</td>\n",
       "      <td>Free</td>\n",
       "      <td>0.0</td>\n",
       "      <td>Everyone</td>\n",
       "      <td>Art &amp; Design;Pretend Play</td>\n",
       "      <td>2018-01-15</td>\n",
       "      <td>2.0</td>\n",
       "      <td>4.0</td>\n",
       "    </tr>\n",
       "    <tr>\n",
       "      <th>2</th>\n",
       "      <td>U Launcher Lite – FREE Live Cool Themes, Hide ...</td>\n",
       "      <td>ART_AND_DESIGN</td>\n",
       "      <td>4.7</td>\n",
       "      <td>87510.0</td>\n",
       "      <td>8.7</td>\n",
       "      <td>5000000</td>\n",
       "      <td>Free</td>\n",
       "      <td>0.0</td>\n",
       "      <td>Everyone</td>\n",
       "      <td>Art &amp; Design</td>\n",
       "      <td>2018-08-01</td>\n",
       "      <td>1.2</td>\n",
       "      <td>4.0</td>\n",
       "    </tr>\n",
       "    <tr>\n",
       "      <th>3</th>\n",
       "      <td>Sketch - Draw &amp; Paint</td>\n",
       "      <td>ART_AND_DESIGN</td>\n",
       "      <td>4.5</td>\n",
       "      <td>215644.0</td>\n",
       "      <td>25.0</td>\n",
       "      <td>50000000</td>\n",
       "      <td>Free</td>\n",
       "      <td>0.0</td>\n",
       "      <td>Teen</td>\n",
       "      <td>Art &amp; Design</td>\n",
       "      <td>2018-06-08</td>\n",
       "      <td>1.0</td>\n",
       "      <td>4.2</td>\n",
       "    </tr>\n",
       "    <tr>\n",
       "      <th>4</th>\n",
       "      <td>Pixel Draw - Number Art Coloring Book</td>\n",
       "      <td>ART_AND_DESIGN</td>\n",
       "      <td>4.3</td>\n",
       "      <td>967.0</td>\n",
       "      <td>2.8</td>\n",
       "      <td>100000</td>\n",
       "      <td>Free</td>\n",
       "      <td>0.0</td>\n",
       "      <td>Everyone</td>\n",
       "      <td>Art &amp; Design;Creativity</td>\n",
       "      <td>2018-06-20</td>\n",
       "      <td>1.1</td>\n",
       "      <td>4.4</td>\n",
       "    </tr>\n",
       "  </tbody>\n",
       "</table>\n",
       "</div>"
      ],
      "text/plain": [
       "                                                 App        Category  Rating  \\\n",
       "0     Photo Editor & Candy Camera & Grid & ScrapBook  ART_AND_DESIGN     4.1   \n",
       "1                                Coloring book moana  ART_AND_DESIGN     3.9   \n",
       "2  U Launcher Lite – FREE Live Cool Themes, Hide ...  ART_AND_DESIGN     4.7   \n",
       "3                              Sketch - Draw & Paint  ART_AND_DESIGN     4.5   \n",
       "4              Pixel Draw - Number Art Coloring Book  ART_AND_DESIGN     4.3   \n",
       "\n",
       "    Reviews  Size  Installs  Type  Price Content Rating  \\\n",
       "0     159.0  19.0     10000  Free    0.0       Everyone   \n",
       "1     967.0  14.0    500000  Free    0.0       Everyone   \n",
       "2   87510.0   8.7   5000000  Free    0.0       Everyone   \n",
       "3  215644.0  25.0  50000000  Free    0.0           Teen   \n",
       "4     967.0   2.8    100000  Free    0.0       Everyone   \n",
       "\n",
       "                      Genres Last Updated  Current Ver  Android Ver  \n",
       "0               Art & Design   2018-01-07          1.0          4.0  \n",
       "1  Art & Design;Pretend Play   2018-01-15          2.0          4.0  \n",
       "2               Art & Design   2018-08-01          1.2          4.0  \n",
       "3               Art & Design   2018-06-08          1.0          4.2  \n",
       "4    Art & Design;Creativity   2018-06-20          1.1          4.4  "
      ]
     },
     "execution_count": 1127,
     "metadata": {},
     "output_type": "execute_result"
    }
   ],
   "source": [
    "df.head()"
   ]
  },
  {
   "cell_type": "code",
   "execution_count": 1001,
   "id": "ad8ed0c1-d2ea-4832-8064-27c7b2065e83",
   "metadata": {},
   "outputs": [
    {
     "name": "stdout",
     "output_type": "stream",
     "text": [
      "<class 'pandas.core.frame.DataFrame'>\n",
      "RangeIndex: 10841 entries, 0 to 10840\n",
      "Data columns (total 13 columns):\n",
      " #   Column          Non-Null Count  Dtype  \n",
      "---  ------          --------------  -----  \n",
      " 0   App             10841 non-null  object \n",
      " 1   Category        10841 non-null  object \n",
      " 2   Rating          9367 non-null   float64\n",
      " 3   Reviews         10841 non-null  object \n",
      " 4   Size            10841 non-null  object \n",
      " 5   Installs        10841 non-null  object \n",
      " 6   Type            10840 non-null  object \n",
      " 7   Price           10841 non-null  object \n",
      " 8   Content Rating  10840 non-null  object \n",
      " 9   Genres          10841 non-null  object \n",
      " 10  Last Updated    10841 non-null  object \n",
      " 11  Current Ver     10833 non-null  object \n",
      " 12  Android Ver     10838 non-null  object \n",
      "dtypes: float64(1), object(12)\n",
      "memory usage: 1.1+ MB\n"
     ]
    }
   ],
   "source": [
    "df.info()"
   ]
  },
  {
   "cell_type": "code",
   "execution_count": 1003,
   "id": "da4b4fb9-1829-441b-bd95-15b30cd6fe9f",
   "metadata": {},
   "outputs": [
    {
     "data": {
      "text/plain": [
       "App                  0\n",
       "Category             0\n",
       "Rating            1474\n",
       "Reviews              0\n",
       "Size                 0\n",
       "Installs             0\n",
       "Type                 1\n",
       "Price                0\n",
       "Content Rating       1\n",
       "Genres               0\n",
       "Last Updated         0\n",
       "Current Ver          8\n",
       "Android Ver          3\n",
       "dtype: int64"
      ]
     },
     "execution_count": 1003,
     "metadata": {},
     "output_type": "execute_result"
    }
   ],
   "source": [
    "df.isnull().sum()"
   ]
  },
  {
   "cell_type": "code",
   "execution_count": 1005,
   "id": "96c84c4b-73c8-4448-9d30-d18fb3e63a39",
   "metadata": {},
   "outputs": [],
   "source": [
    "df.dropna(subset=[\"Current Ver\"], inplace=True)\n",
    "df.dropna(subset=[\"Content Rating\"], inplace=True)\n",
    "df.dropna(subset=[\"Android Ver\"], inplace=True)\n",
    "df.dropna(subset=[\"Type\"], inplace=True)"
   ]
  },
  {
   "cell_type": "code",
   "execution_count": 1007,
   "id": "bcfa9151-374a-4fef-88b5-13a3c371359b",
   "metadata": {},
   "outputs": [],
   "source": [
    "df[\"Reviews\"]=df[\"Reviews\"].astype(float)\n"
   ]
  },
  {
   "cell_type": "code",
   "execution_count": 1009,
   "id": "8855362f-26cb-459c-a6fe-aa21989b2e5a",
   "metadata": {},
   "outputs": [],
   "source": [
    "df[\"Size\"] = df[\"Size\"].replace(\"M\", \"\", regex=True)\n",
    "df[\"Size\"] = df[\"Size\"].replace(\"Varies with device\", np.nan)\n",
    "df[\"Size\"] = df[\"Size\"].replace(\"k\", \"\", regex=True)\n",
    "# df[\"Size\"]=df[\"Size\"].replace(\"201k\",np.nan,regex=True)\n",
    "# df[\"Size\"]=df[\"Size\"].replace(\"23k\",np.nan,regex=True)\n",
    "# df[\"Size\"]=df[\"Size\"].replace(\"79k\",np.nan,regex=True)\n",
    "# df[\"Size\"]=df[\"Size\"].replace(\"118k\",np.nan,regex=True)\n",
    "# df[\"Size\"]=df[\"Size\"].replace(\"695k\",np.nan,regex=True)\n",
    "# df[\"Size\"]=df[\"Size\"].replace(\"18k\",np.nan,regex=True)\n",
    "# df[\"Size\"]=df[\"Size\"].replace(\"526k\",np.nan,regex=True)\n",
    "# df[\"Size\"]=df[\"Size\"].replace(\"334k\",np.nan,regex=True)\n",
    "# df[\"Size\"]=df[\"Size\"].replace(\"18k\",np.nan,regex=True)\n",
    "# df[\"Size\"]=df[\"Size\"].replace(\"8.5k\",np.nan,regex=True)\n",
    "# df[\"Size\"]=df[\"Size\"].replace(\"41k\",np.nan,regex=True)\n",
    "# df[\"Size\"]=df[\"Size\"].replace(\"292k\",np.nan,regex=True)\n",
    "df[\"Size\"]=df[\"Size\"].astype(float)"
   ]
  },
  {
   "cell_type": "code",
   "execution_count": 1011,
   "id": "7f5dc4e8-9ec6-434a-b5a8-38131893c893",
   "metadata": {},
   "outputs": [],
   "source": [
    "df[\"Installs\"]=df[\"Installs\"].replace(r\"\\+\",\"\",regex=True)\n",
    "df[\"Installs\"]=df[\"Installs\"].replace(\",\",\"\",regex=True)\n",
    "df[\"Installs\"]=df[\"Installs\"].astype(int)\n",
    "\n"
   ]
  },
  {
   "cell_type": "code",
   "execution_count": 1013,
   "id": "ac9a11a3-7be5-400b-9f99-59473c951ada",
   "metadata": {},
   "outputs": [],
   "source": [
    "df[\"Price\"]=df[\"Price\"].str.replace(\"$\",\"\").astype(float)"
   ]
  },
  {
   "cell_type": "code",
   "execution_count": 1015,
   "id": "084da11a-c501-4cb2-afc4-12b70ddb87d1",
   "metadata": {},
   "outputs": [
    {
     "data": {
      "text/plain": [
       "0"
      ]
     },
     "execution_count": 1015,
     "metadata": {},
     "output_type": "execute_result"
    }
   ],
   "source": [
    "df[\"Content Rating\"].isnull().sum()"
   ]
  },
  {
   "cell_type": "code",
   "execution_count": 1017,
   "id": "3047aaa3-aa3c-440b-99a3-6bddec37edc3",
   "metadata": {},
   "outputs": [
    {
     "data": {
      "text/plain": [
       "0"
      ]
     },
     "execution_count": 1017,
     "metadata": {},
     "output_type": "execute_result"
    }
   ],
   "source": [
    "df[\"Genres\"].isnull().sum()"
   ]
  },
  {
   "cell_type": "code",
   "execution_count": 1019,
   "id": "03c58559-b2cc-42fd-8a36-ceff8fc98f2f",
   "metadata": {},
   "outputs": [],
   "source": [
    "df[\"Last Updated\"]=pd.to_datetime(df[\"Last Updated\"])"
   ]
  },
  {
   "cell_type": "code",
   "execution_count": 1021,
   "id": "81c1b579-cce9-45eb-aaf3-d7ef166614ef",
   "metadata": {},
   "outputs": [],
   "source": [
    "df[\"Current Ver\"] = df[\"Current Ver\"].str.extract(r'(\\d+\\.\\d+)').astype(float)"
   ]
  },
  {
   "cell_type": "code",
   "execution_count": 1023,
   "id": "64f3f3b3-03ad-4ce2-9d72-79732c103174",
   "metadata": {},
   "outputs": [],
   "source": [
    "df[\"Android Ver\"] = df[\"Android Ver\"].str.extract(r'(\\d+\\.\\d+)').astype(float)"
   ]
  },
  {
   "cell_type": "code",
   "execution_count": 1025,
   "id": "e51b24ff-a4fd-4da1-879c-f0d040ea93bc",
   "metadata": {},
   "outputs": [
    {
     "data": {
      "text/plain": [
       "1361"
      ]
     },
     "execution_count": 1025,
     "metadata": {},
     "output_type": "execute_result"
    }
   ],
   "source": [
    "df[\"Android Ver\"].isna().sum()"
   ]
  },
  {
   "cell_type": "code",
   "execution_count": 1027,
   "id": "78ff3810-e236-405d-9161-1b71d1717ab3",
   "metadata": {},
   "outputs": [
    {
     "name": "stderr",
     "output_type": "stream",
     "text": [
      "C:\\Users\\Domain\\AppData\\Local\\Temp\\ipykernel_2784\\917208352.py:1: FutureWarning: A value is trying to be set on a copy of a DataFrame or Series through chained assignment using an inplace method.\n",
      "The behavior will change in pandas 3.0. This inplace method will never work because the intermediate object on which we are setting values always behaves as a copy.\n",
      "\n",
      "For example, when doing 'df[col].method(value, inplace=True)', try using 'df.method({col: value}, inplace=True)' or df[col] = df[col].method(value) instead, to perform the operation inplace on the original object.\n",
      "\n",
      "\n",
      "  df[\"Android Ver\"].fillna(df[\"Android Ver\"].mode()[0], inplace=True)\n"
     ]
    },
    {
     "data": {
      "text/plain": [
       "0"
      ]
     },
     "execution_count": 1027,
     "metadata": {},
     "output_type": "execute_result"
    }
   ],
   "source": [
    "df[\"Android Ver\"].fillna(df[\"Android Ver\"].mode()[0], inplace=True)\n",
    "df[\"Android Ver\"].isna().sum()"
   ]
  },
  {
   "cell_type": "code",
   "execution_count": 1029,
   "id": "5990408b-9d28-4efe-b6a0-6e5d8efc2e98",
   "metadata": {},
   "outputs": [
    {
     "name": "stderr",
     "output_type": "stream",
     "text": [
      "C:\\Users\\Domain\\AppData\\Local\\Temp\\ipykernel_2784\\3085245081.py:1: FutureWarning: A value is trying to be set on a copy of a DataFrame or Series through chained assignment using an inplace method.\n",
      "The behavior will change in pandas 3.0. This inplace method will never work because the intermediate object on which we are setting values always behaves as a copy.\n",
      "\n",
      "For example, when doing 'df[col].method(value, inplace=True)', try using 'df.method({col: value}, inplace=True)' or df[col] = df[col].method(value) instead, to perform the operation inplace on the original object.\n",
      "\n",
      "\n",
      "  df[\"Current Ver\"].fillna(df[\"Current Ver\"].mode()[0], inplace=True)\n"
     ]
    },
    {
     "data": {
      "text/plain": [
       "0"
      ]
     },
     "execution_count": 1029,
     "metadata": {},
     "output_type": "execute_result"
    }
   ],
   "source": [
    "df[\"Current Ver\"].fillna(df[\"Current Ver\"].mode()[0], inplace=True)\n",
    "df[\"Current Ver\"].isnull().sum()\n"
   ]
  },
  {
   "cell_type": "code",
   "execution_count": 1031,
   "id": "d6e3bb40-e0d7-43f2-81ae-69cf554409ac",
   "metadata": {},
   "outputs": [
    {
     "data": {
      "text/plain": [
       "0        1.00\n",
       "1        2.00\n",
       "2        1.20\n",
       "3        1.00\n",
       "4        1.10\n",
       "         ... \n",
       "10836    1.48\n",
       "10837    1.00\n",
       "10838    1.00\n",
       "10839    1.00\n",
       "10840    1.00\n",
       "Name: Current Ver, Length: 10829, dtype: float64"
      ]
     },
     "execution_count": 1031,
     "metadata": {},
     "output_type": "execute_result"
    }
   ],
   "source": [
    "df[\"Current Ver\"]"
   ]
  },
  {
   "cell_type": "code",
   "execution_count": 1033,
   "id": "4258787e-1bb2-4749-a04a-5bb7d8e6d52b",
   "metadata": {},
   "outputs": [],
   "source": [
    "df[\"Current Ver\"] = pd.to_numeric(df[\"Current Ver\"], errors=\"coerce\")  \n",
    "df = df[df[\"Current Ver\"] <= 10]\n",
    "    "
   ]
  },
  {
   "cell_type": "code",
   "execution_count": 1035,
   "id": "2250829f-7416-4654-bd58-f74a63d75dab",
   "metadata": {},
   "outputs": [
    {
     "data": {
      "text/plain": [
       "10.0"
      ]
     },
     "execution_count": 1035,
     "metadata": {},
     "output_type": "execute_result"
    }
   ],
   "source": [
    "df[\"Current Ver\"].max()"
   ]
  },
  {
   "cell_type": "code",
   "execution_count": 1037,
   "id": "337e942f-e918-4a47-8abf-d8c1ea9c1e62",
   "metadata": {},
   "outputs": [
    {
     "name": "stdout",
     "output_type": "stream",
     "text": [
      "<class 'pandas.core.frame.DataFrame'>\n",
      "Index: 10449 entries, 0 to 10840\n",
      "Data columns (total 13 columns):\n",
      " #   Column          Non-Null Count  Dtype         \n",
      "---  ------          --------------  -----         \n",
      " 0   App             10449 non-null  object        \n",
      " 1   Category        10449 non-null  object        \n",
      " 2   Rating          9033 non-null   float64       \n",
      " 3   Reviews         10449 non-null  float64       \n",
      " 4   Size            8785 non-null   float64       \n",
      " 5   Installs        10449 non-null  int32         \n",
      " 6   Type            10449 non-null  object        \n",
      " 7   Price           10449 non-null  float64       \n",
      " 8   Content Rating  10449 non-null  object        \n",
      " 9   Genres          10449 non-null  object        \n",
      " 10  Last Updated    10449 non-null  datetime64[ns]\n",
      " 11  Current Ver     10449 non-null  float64       \n",
      " 12  Android Ver     10449 non-null  float64       \n",
      "dtypes: datetime64[ns](1), float64(6), int32(1), object(5)\n",
      "memory usage: 1.1+ MB\n"
     ]
    }
   ],
   "source": [
    "df.info()"
   ]
  },
  {
   "cell_type": "code",
   "execution_count": 1039,
   "id": "958d30ff-8ab3-4144-8245-e84ebe35c96c",
   "metadata": {},
   "outputs": [
    {
     "data": {
      "text/plain": [
       "5.0"
      ]
     },
     "execution_count": 1039,
     "metadata": {},
     "output_type": "execute_result"
    }
   ],
   "source": [
    "df.Rating.max()"
   ]
  },
  {
   "cell_type": "code",
   "execution_count": 1045,
   "id": "14af8eb7-b19c-4e90-a019-f8853345ed34",
   "metadata": {},
   "outputs": [
    {
     "data": {
      "text/plain": [
       "0        4.1\n",
       "1        3.9\n",
       "2        4.7\n",
       "3        4.5\n",
       "4        4.3\n",
       "        ... \n",
       "10836    4.5\n",
       "10837    5.0\n",
       "10838    4.4\n",
       "10839    4.5\n",
       "10840    4.5\n",
       "Name: Rating, Length: 10449, dtype: float64"
      ]
     },
     "execution_count": 1045,
     "metadata": {},
     "output_type": "execute_result"
    }
   ],
   "source": [
    "df.Rating.fillna(df.Rating.mode()[0],inplace=True)\n",
    "df.Rating"
   ]
  },
  {
   "cell_type": "code",
   "execution_count": 1047,
   "id": "39c315e3-09b4-4cc8-82f6-ed016fdca9ba",
   "metadata": {},
   "outputs": [
    {
     "name": "stdout",
     "output_type": "stream",
     "text": [
      "<class 'pandas.core.frame.DataFrame'>\n",
      "Index: 10449 entries, 0 to 10840\n",
      "Data columns (total 13 columns):\n",
      " #   Column          Non-Null Count  Dtype         \n",
      "---  ------          --------------  -----         \n",
      " 0   App             10449 non-null  object        \n",
      " 1   Category        10449 non-null  object        \n",
      " 2   Rating          10449 non-null  float64       \n",
      " 3   Reviews         10449 non-null  float64       \n",
      " 4   Size            8785 non-null   float64       \n",
      " 5   Installs        10449 non-null  int32         \n",
      " 6   Type            10449 non-null  object        \n",
      " 7   Price           10449 non-null  float64       \n",
      " 8   Content Rating  10449 non-null  object        \n",
      " 9   Genres          10449 non-null  object        \n",
      " 10  Last Updated    10449 non-null  datetime64[ns]\n",
      " 11  Current Ver     10449 non-null  float64       \n",
      " 12  Android Ver     10449 non-null  float64       \n",
      "dtypes: datetime64[ns](1), float64(6), int32(1), object(5)\n",
      "memory usage: 1.1+ MB\n"
     ]
    }
   ],
   "source": [
    "df.info()"
   ]
  },
  {
   "cell_type": "code",
   "execution_count": 1053,
   "id": "225c3a6e-9c2e-4369-bcf6-43cacaa85ab2",
   "metadata": {},
   "outputs": [
    {
     "name": "stdout",
     "output_type": "stream",
     "text": [
      "<class 'pandas.core.frame.DataFrame'>\n",
      "Index: 10449 entries, 0 to 10840\n",
      "Data columns (total 13 columns):\n",
      " #   Column          Non-Null Count  Dtype         \n",
      "---  ------          --------------  -----         \n",
      " 0   App             10449 non-null  object        \n",
      " 1   Category        10449 non-null  object        \n",
      " 2   Rating          10449 non-null  float64       \n",
      " 3   Reviews         10449 non-null  float64       \n",
      " 4   Size            10449 non-null  float64       \n",
      " 5   Installs        10449 non-null  int32         \n",
      " 6   Type            10449 non-null  object        \n",
      " 7   Price           10449 non-null  float64       \n",
      " 8   Content Rating  10449 non-null  object        \n",
      " 9   Genres          10449 non-null  object        \n",
      " 10  Last Updated    10449 non-null  datetime64[ns]\n",
      " 11  Current Ver     10449 non-null  float64       \n",
      " 12  Android Ver     10449 non-null  float64       \n",
      "dtypes: datetime64[ns](1), float64(6), int32(1), object(5)\n",
      "memory usage: 1.1+ MB\n"
     ]
    },
    {
     "name": "stderr",
     "output_type": "stream",
     "text": [
      "C:\\Users\\Domain\\AppData\\Local\\Temp\\ipykernel_2784\\402935919.py:1: FutureWarning: A value is trying to be set on a copy of a DataFrame or Series through chained assignment using an inplace method.\n",
      "The behavior will change in pandas 3.0. This inplace method will never work because the intermediate object on which we are setting values always behaves as a copy.\n",
      "\n",
      "For example, when doing 'df[col].method(value, inplace=True)', try using 'df.method({col: value}, inplace=True)' or df[col] = df[col].method(value) instead, to perform the operation inplace on the original object.\n",
      "\n",
      "\n",
      "  df.Size.fillna(df.Size.mean(),inplace=True)\n"
     ]
    }
   ],
   "source": [
    "df.Size.fillna(df.Size.mean(),inplace=True)\n",
    "df.info()"
   ]
  },
  {
   "cell_type": "code",
   "execution_count": 1055,
   "id": "16239e5b-50ea-4a5f-8fe7-d4366c0a5729",
   "metadata": {},
   "outputs": [],
   "source": [
    "#all columns has been fixed "
   ]
  },
  {
   "cell_type": "code",
   "execution_count": 1059,
   "id": "88b27c96-9826-42f1-a3fe-1700313d33f7",
   "metadata": {},
   "outputs": [
    {
     "data": {
      "text/html": [
       "<div>\n",
       "<style scoped>\n",
       "    .dataframe tbody tr th:only-of-type {\n",
       "        vertical-align: middle;\n",
       "    }\n",
       "\n",
       "    .dataframe tbody tr th {\n",
       "        vertical-align: top;\n",
       "    }\n",
       "\n",
       "    .dataframe thead th {\n",
       "        text-align: right;\n",
       "    }\n",
       "</style>\n",
       "<table border=\"1\" class=\"dataframe\">\n",
       "  <thead>\n",
       "    <tr style=\"text-align: right;\">\n",
       "      <th></th>\n",
       "      <th>App</th>\n",
       "      <th>Category</th>\n",
       "      <th>Rating</th>\n",
       "      <th>Reviews</th>\n",
       "      <th>Size</th>\n",
       "      <th>Installs</th>\n",
       "      <th>Type</th>\n",
       "      <th>Price</th>\n",
       "      <th>Content Rating</th>\n",
       "      <th>Genres</th>\n",
       "      <th>Last Updated</th>\n",
       "      <th>Current Ver</th>\n",
       "      <th>Android Ver</th>\n",
       "    </tr>\n",
       "  </thead>\n",
       "  <tbody>\n",
       "    <tr>\n",
       "      <th>0</th>\n",
       "      <td>Photo Editor &amp; Candy Camera &amp; Grid &amp; ScrapBook</td>\n",
       "      <td>ART_AND_DESIGN</td>\n",
       "      <td>4.1</td>\n",
       "      <td>159.0</td>\n",
       "      <td>19.0</td>\n",
       "      <td>10000</td>\n",
       "      <td>Free</td>\n",
       "      <td>0.0</td>\n",
       "      <td>Everyone</td>\n",
       "      <td>Art &amp; Design</td>\n",
       "      <td>2018-01-07</td>\n",
       "      <td>1.0</td>\n",
       "      <td>4.0</td>\n",
       "    </tr>\n",
       "    <tr>\n",
       "      <th>1</th>\n",
       "      <td>Coloring book moana</td>\n",
       "      <td>ART_AND_DESIGN</td>\n",
       "      <td>3.9</td>\n",
       "      <td>967.0</td>\n",
       "      <td>14.0</td>\n",
       "      <td>500000</td>\n",
       "      <td>Free</td>\n",
       "      <td>0.0</td>\n",
       "      <td>Everyone</td>\n",
       "      <td>Art &amp; Design;Pretend Play</td>\n",
       "      <td>2018-01-15</td>\n",
       "      <td>2.0</td>\n",
       "      <td>4.0</td>\n",
       "    </tr>\n",
       "    <tr>\n",
       "      <th>2</th>\n",
       "      <td>U Launcher Lite – FREE Live Cool Themes, Hide ...</td>\n",
       "      <td>ART_AND_DESIGN</td>\n",
       "      <td>4.7</td>\n",
       "      <td>87510.0</td>\n",
       "      <td>8.7</td>\n",
       "      <td>5000000</td>\n",
       "      <td>Free</td>\n",
       "      <td>0.0</td>\n",
       "      <td>Everyone</td>\n",
       "      <td>Art &amp; Design</td>\n",
       "      <td>2018-08-01</td>\n",
       "      <td>1.2</td>\n",
       "      <td>4.0</td>\n",
       "    </tr>\n",
       "    <tr>\n",
       "      <th>3</th>\n",
       "      <td>Sketch - Draw &amp; Paint</td>\n",
       "      <td>ART_AND_DESIGN</td>\n",
       "      <td>4.5</td>\n",
       "      <td>215644.0</td>\n",
       "      <td>25.0</td>\n",
       "      <td>50000000</td>\n",
       "      <td>Free</td>\n",
       "      <td>0.0</td>\n",
       "      <td>Teen</td>\n",
       "      <td>Art &amp; Design</td>\n",
       "      <td>2018-06-08</td>\n",
       "      <td>1.0</td>\n",
       "      <td>4.2</td>\n",
       "    </tr>\n",
       "    <tr>\n",
       "      <th>4</th>\n",
       "      <td>Pixel Draw - Number Art Coloring Book</td>\n",
       "      <td>ART_AND_DESIGN</td>\n",
       "      <td>4.3</td>\n",
       "      <td>967.0</td>\n",
       "      <td>2.8</td>\n",
       "      <td>100000</td>\n",
       "      <td>Free</td>\n",
       "      <td>0.0</td>\n",
       "      <td>Everyone</td>\n",
       "      <td>Art &amp; Design;Creativity</td>\n",
       "      <td>2018-06-20</td>\n",
       "      <td>1.1</td>\n",
       "      <td>4.4</td>\n",
       "    </tr>\n",
       "  </tbody>\n",
       "</table>\n",
       "</div>"
      ],
      "text/plain": [
       "                                                 App        Category  Rating  \\\n",
       "0     Photo Editor & Candy Camera & Grid & ScrapBook  ART_AND_DESIGN     4.1   \n",
       "1                                Coloring book moana  ART_AND_DESIGN     3.9   \n",
       "2  U Launcher Lite – FREE Live Cool Themes, Hide ...  ART_AND_DESIGN     4.7   \n",
       "3                              Sketch - Draw & Paint  ART_AND_DESIGN     4.5   \n",
       "4              Pixel Draw - Number Art Coloring Book  ART_AND_DESIGN     4.3   \n",
       "\n",
       "    Reviews  Size  Installs  Type  Price Content Rating  \\\n",
       "0     159.0  19.0     10000  Free    0.0       Everyone   \n",
       "1     967.0  14.0    500000  Free    0.0       Everyone   \n",
       "2   87510.0   8.7   5000000  Free    0.0       Everyone   \n",
       "3  215644.0  25.0  50000000  Free    0.0           Teen   \n",
       "4     967.0   2.8    100000  Free    0.0       Everyone   \n",
       "\n",
       "                      Genres Last Updated  Current Ver  Android Ver  \n",
       "0               Art & Design   2018-01-07          1.0          4.0  \n",
       "1  Art & Design;Pretend Play   2018-01-15          2.0          4.0  \n",
       "2               Art & Design   2018-08-01          1.2          4.0  \n",
       "3               Art & Design   2018-06-08          1.0          4.2  \n",
       "4    Art & Design;Creativity   2018-06-20          1.1          4.4  "
      ]
     },
     "execution_count": 1059,
     "metadata": {},
     "output_type": "execute_result"
    }
   ],
   "source": [
    "df.head()"
   ]
  },
  {
   "cell_type": "code",
   "execution_count": 1125,
   "id": "5f026991-4812-4963-9d7e-e7a223cc03a9",
   "metadata": {},
   "outputs": [
    {
     "data": {
      "image/png": "[encoded data removed]",
      "text/plain": [
       "<Figure size 1500x1000 with 7 Axes>"
      ]
     },
     "metadata": {},
     "output_type": "display_data"
    }
   ],
   "source": [
    "#detecting the outlier\n",
    "fig, axes = plt.subplots(nrows=3, ncols=3, figsize=(15, 10))  \n",
    "numeric_columns = [\"Rating\", \"Reviews\", \"Size\", \"Installs\", \"Price\", \"Android Ver\", \"Current Ver\"]\n",
    "for ax, col in zip(axes.flatten(), numeric_columns):\n",
    "    sns.boxplot(y=df[col], ax=ax)\n",
    "    ax.set_title(f\"Boxplot of {col}\")\n",
    "\n",
    "for i in range(len(numeric_columns), 9):  \n",
    "    fig.delaxes(axes.flatten()[i])\n",
    "\n",
    "plt.tight_layout()\n",
    "plt.show()"
   ]
  },
  {
   "cell_type": "code",
   "execution_count": 1114,
   "id": "cfd3b0b7-149c-42da-bbe2-7bb5acb41e5c",
   "metadata": {},
   "outputs": [
    {
     "data": {
      "text/plain": [
       "Timestamp('2018-08-08 00:00:00')"
      ]
     },
     "execution_count": 1114,
     "metadata": {},
     "output_type": "execute_result"
    }
   ],
   "source": [
    "df[\"Last Updated\"].max()"
   ]
  },
  {
   "cell_type": "code",
   "execution_count": null,
   "id": "43c07511-6e22-490d-87a3-9a1a756dcd41",
   "metadata": {},
   "outputs": [],
   "source": []
  }
 ],
 "metadata": {
  "kernelspec": {
   "display_name": "Python [conda env:base] *",
   "language": "python",
   "name": "conda-base-py"
  },
  "language_info": {
   "codemirror_mode": {
    "name": "ipython",
    "version": 3
   },
   "file_extension": ".py",
   "mimetype": "text/x-python",
   "name": "python",
   "nbconvert_exporter": "python",
   "pygments_lexer": "ipython3",
   "version": "3.12.7"
  }
 },
 "nbformat": 4,
 "nbformat_minor": 5
}
