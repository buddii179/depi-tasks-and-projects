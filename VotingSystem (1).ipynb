{
 "cells": [
  {
   "cell_type": "code",
   "execution_count": null,
   "id": "ab14e2da",
   "metadata": {},
   "outputs": [
    {
     "name": "stdout",
     "output_type": "stream",
     "text": [
      "Candidates:\n",
      "Ali\n",
      "Mostafa\n",
      "Baraa\n",
      "Candidate Mohamed does not exist\n",
      "Number of voting for Ali are: 3\n",
      "Number of voting for  Mostafa are: 1\n",
      "Number of voting for  Baraa are: 2\n",
      "The winner is Ali: with 3 votes\n"
     ]
    }
   ],
   "source": [
    "class votingSystem:\n",
    "    #انشاء المتغيرات بواسطة ال constractor\n",
    "    def __init__(self):\n",
    "        self.candidates = {}\n",
    "        self.votes = {}\n",
    "#انشاء دالة اضافة الاشخاص\n",
    "    def add_candidate(self, name):\n",
    "        self.candidates[name] = 0\n",
    "        self.votes[name] = []\n",
    "#انشاء دالة اطهار الاشخاص\n",
    "    def show_candidates(self):\n",
    "        print(\"Candidates:\")\n",
    "        for candidate in self.candidates:\n",
    "            print(candidate)\n",
    "#انشاء دالة التصويت للاشخاص\n",
    "    def vote_for_candidate(self, name):\n",
    "        if name in self.candidates:\n",
    "            self.candidates[name] += 1\n",
    "            self.votes[name].append(1)\n",
    "        else:\n",
    "            print(f\"Candidate {name} does not exist\")\n",
    "#دالة اظهار الاصوات\n",
    "    def get_result_of_candidate(self, name):\n",
    "        if name in self.candidates:\n",
    "            return self.candidates[name]\n",
    "        else:\n",
    "            return f\"Candidate {name} does not exist\"\n",
    "#دالة اظهار الفائز\n",
    "    def display_winner(self):\n",
    "        winner = max(self.candidates, key=self.candidates.get)\n",
    "        print(f\"The winner is {winner}: with {self.candidates[winner]} votes\")\n",
    "\n",
    "voting = VotingSystem()\n",
    "voting.add_candidate('Alaa','Mostafa','Ahmed')\n",
    "voting.show_candidates()\n",
    "\n",
    "voting.vote_for_candidate('Alaa')\n",
    "voting.vote_for_candidate('Alaa')\n",
    "voting.vote_for_candidate('Alaa')\n",
    "voting.vote_for_candidate('Alaa')\n",
    "voting.vote_for_candidate('Alaa')\n",
    "voting.vote_for_candidate('Mostafa')\n",
    "voting.vote_for_candidate('Mostafa')\n",
    "voting.vote_for_candidate('Ahmed')\n",
    "voting.vote_for_candidate('Ahmed')\n",
    "voting.vote_for_candidate('Mohamed')\n",
    "\n",
    "print(f\"Number of voting for Ali are: {voting.get_result_of_candidate('Ali')}\")\n",
    "print(f\"Number of voting for  Mostafa are: {voting.get_result_of_candidate('Mostafa')}\")\n",
    "print(f\"Number of voting for  Baraa are: {voting.get_result_of_candidate('Baraa')}\")\n",
    "\n",
    "voting.display_winner()"
   ]
  },
  {
   "cell_type": "code",
   "execution_count": null,
   "id": "38b7dfe4",
   "metadata": {},
   "outputs": [],
   "source": []
  }
 ],
 "metadata": {
  "kernelspec": {
   "display_name": "Python 3 (ipykernel)",
   "language": "python",
   "name": "python3"
  },
  "language_info": {
   "codemirror_mode": {
    "name": "ipython",
    "version": 3
   },
   "file_extension": ".py",
   "mimetype": "text/x-python",
   "name": "python",
   "nbconvert_exporter": "python",
   "pygments_lexer": "ipython3",
   "version": "3.11.5"
  }
 },
 "nbformat": 4,
 "nbformat_minor": 5
}
