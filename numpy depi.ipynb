{
  "metadata": {
    "kernelspec": {
      "name": "python",
      "display_name": "Python (Pyodide)",
      "language": "python"
    },
    "language_info": {
      "codemirror_mode": {
        "name": "python",
        "version": 3
      },
      "file_extension": ".py",
      "mimetype": "text/x-python",
      "name": "python",
      "nbconvert_exporter": "python",
      "pygments_lexer": "ipython3",
      "version": "3.8"
    }
  },
  "nbformat_minor": 5,
  "nbformat": 4,
  "cells": [
    {
      "id": "ab92292c-9b01-48f8-8bad-c6cc04c43e5d",
      "cell_type": "code",
      "source": "import numpy as np",
      "metadata": {
        "trusted": true
      },
      "outputs": [],
      "execution_count": 2
    },
    {
      "id": "4353685b-9360-41fb-94ff-2d32937fa401",
      "cell_type": "code",
      "source": "arr1=np.array([1,2,3,4,5,6])\nprint(arr1)",
      "metadata": {
        "trusted": true
      },
      "outputs": [
        {
          "name": "stdout",
          "output_type": "stream",
          "text": "[1 2 3 4 5 6]\n"
        }
      ],
      "execution_count": 5
    },
    {
      "id": "f32c52b0-fc4e-479f-8ecf-397c3199b275",
      "cell_type": "code",
      "source": "#the weeks refers to a dim and the products and the region .......the weeks contains the region and the region contains the product\nsales_data=np.array([[[500,600,700]],[[100,300,200]],\n                     [[500,600,700]],[[800,100,600]],\n                     [[550,680,900]],[[600,700,330]]\n                    ])\nprint(sales_data)\nprint(sales_data.shape)\n\n                ",
      "metadata": {
        "trusted": true
      },
      "outputs": [
        {
          "name": "stdout",
          "output_type": "stream",
          "text": "[[[500 600 700]]\n\n [[100 300 200]]\n\n [[500 600 700]]\n\n [[800 100 600]]\n\n [[550 680 900]]\n\n [[600 700 330]]]\n(6, 1, 3)\n"
        }
      ],
      "execution_count": 35
    },
    {
      "id": "26037fb5-304e-46b1-8284-578c25d3e483",
      "cell_type": "code",
      "source": "arr2=np.array([[1,2,3],[4,5,6]])\nprint(arr2)\nprint(arr2.shape)\n",
      "metadata": {
        "trusted": true
      },
      "outputs": [
        {
          "name": "stdout",
          "output_type": "stream",
          "text": "[[1 2 3]\n [4 5 6]]\n(2, 3)\n"
        }
      ],
      "execution_count": 41
    },
    {
      "id": "173e4298-db9f-44ab-b8ba-6af6d9b7b6ff",
      "cell_type": "code",
      "source": "#how to make an array filled with zeros\nzeros=np.zeros((3,3))\nprint(zeros)",
      "metadata": {
        "trusted": true
      },
      "outputs": [
        {
          "name": "stdout",
          "output_type": "stream",
          "text": "[[0. 0. 0.]\n [0. 0. 0.]\n [0. 0. 0.]]\n"
        }
      ],
      "execution_count": 45
    },
    {
      "id": "c344e1f3-b623-4141-8e45-da025fc5fb7b",
      "cell_type": "code",
      "source": "#how to make an array filled with ones\nones=np.ones((4,5))\nprint(ones)\n",
      "metadata": {
        "trusted": true
      },
      "outputs": [
        {
          "name": "stdout",
          "output_type": "stream",
          "text": "[[1. 1. 1. 1. 1.]\n [1. 1. 1. 1. 1.]\n [1. 1. 1. 1. 1.]\n [1. 1. 1. 1. 1.]]\n"
        }
      ],
      "execution_count": 48
    },
    {
      "id": "c3598946-fb38-4cd9-ae25-4c63c80f0f03",
      "cell_type": "code",
      "source": "#how to fill an array with range of values\nrarray=np.arange(15)\nprint(rarray)",
      "metadata": {
        "trusted": true
      },
      "outputs": [
        {
          "name": "stdout",
          "output_type": "stream",
          "text": "[ 0  1  2  3  4  5  6  7  8  9 10 11 12 13 14]\n"
        }
      ],
      "execution_count": 52
    },
    {
      "id": "29ebbbc7-3e4f-485c-82aa-5c28feeec434",
      "cell_type": "code",
      "source": "#Creating an Array with a Range of Values and Specific Step Size\nrange_step=np.arange(0,20,2)\nprint(range_step)",
      "metadata": {
        "trusted": true
      },
      "outputs": [
        {
          "name": "stdout",
          "output_type": "stream",
          "text": "[ 0  2  4  6  8 10 12 14 16 18]\n"
        }
      ],
      "execution_count": 55
    },
    {
      "id": "e0ff0f88-6a5c-4395-9c3b-1781bbd880b6",
      "cell_type": "code",
      "source": "lin_spacearray=np.linspace(0,100,5)\nlin_spacearray",
      "metadata": {
        "trusted": true
      },
      "outputs": [
        {
          "execution_count": 60,
          "output_type": "execute_result",
          "data": {
            "text/plain": "array([  0.,  25.,  50.,  75., 100.])"
          },
          "metadata": {}
        }
      ],
      "execution_count": 60
    },
    {
      "id": "cc08535b-9fd9-454a-9d27-c1d2fbc0de4c",
      "cell_type": "code",
      "source": "random_array=np.random.rand(3,4)\nrandom_array\n",
      "metadata": {
        "trusted": true
      },
      "outputs": [
        {
          "execution_count": 64,
          "output_type": "execute_result",
          "data": {
            "text/plain": "array([[1.81649848e-01, 6.08464708e-01, 1.05920314e-01, 7.65029697e-01],\n       [5.45241648e-01, 5.58690725e-01, 2.05609616e-01, 9.92725771e-01],\n       [9.17813996e-01, 5.21852749e-01, 9.40068777e-01, 2.74217647e-04]])"
          },
          "metadata": {}
        }
      ],
      "execution_count": 64
    },
    {
      "id": "aa468525-49c4-4f66-901b-0ee43e8234e5",
      "cell_type": "code",
      "source": "rando_int=np.random.randint(0,10,(3,3))\nrandom_array\n",
      "metadata": {
        "trusted": true
      },
      "outputs": [
        {
          "execution_count": 67,
          "output_type": "execute_result",
          "data": {
            "text/plain": "array([[1.81649848e-01, 6.08464708e-01, 1.05920314e-01, 7.65029697e-01],\n       [5.45241648e-01, 5.58690725e-01, 2.05609616e-01, 9.92725771e-01],\n       [9.17813996e-01, 5.21852749e-01, 9.40068777e-01, 2.74217647e-04]])"
          },
          "metadata": {}
        }
      ],
      "execution_count": 67
    },
    {
      "id": "bd1c48d8-f1c5-460e-863d-f5000145aae9",
      "cell_type": "code",
      "source": "zeros.shape\n",
      "metadata": {
        "trusted": true
      },
      "outputs": [
        {
          "execution_count": 69,
          "output_type": "execute_result",
          "data": {
            "text/plain": "(3, 3)"
          },
          "metadata": {}
        }
      ],
      "execution_count": 69
    },
    {
      "id": "67b19981-4c6e-4926-bda8-a3e122169fd4",
      "cell_type": "code",
      "source": "zeros.dtype",
      "metadata": {
        "trusted": true
      },
      "outputs": [
        {
          "execution_count": 71,
          "output_type": "execute_result",
          "data": {
            "text/plain": "dtype('float64')"
          },
          "metadata": {}
        }
      ],
      "execution_count": 71
    },
    {
      "id": "881a7e28-21b3-4b0a-908e-0847b2b47e01",
      "cell_type": "code",
      "source": "d1_array=np.array([1,2,3,4,5])\nprint(d1_array[0])\nprint(d1_array[-1])\n",
      "metadata": {
        "trusted": true
      },
      "outputs": [
        {
          "name": "stdout",
          "output_type": "stream",
          "text": "1\n5\n"
        }
      ],
      "execution_count": 74
    },
    {
      "id": "9291243f-9034-4564-9e27-f9e6b2db880f",
      "cell_type": "code",
      "source": "print(d1_array[0:3])",
      "metadata": {
        "trusted": true
      },
      "outputs": [
        {
          "name": "stdout",
          "output_type": "stream",
          "text": "[1 2 3]\n"
        }
      ],
      "execution_count": 77
    },
    {
      "id": "79dda141-b99b-4dee-a8f3-f219628b4c5c",
      "cell_type": "code",
      "source": "d2_array=np.array([[1,2,3,4],[5,6,7,8]])\nd2_array[1][0:2]\n",
      "metadata": {
        "trusted": true
      },
      "outputs": [
        {
          "execution_count": 84,
          "output_type": "execute_result",
          "data": {
            "text/plain": "array([5, 6])"
          },
          "metadata": {}
        }
      ],
      "execution_count": 84
    },
    {
      "id": "1bdbf3d4-f689-4b1d-b43c-62c49096769a",
      "cell_type": "code",
      "source": "great_than_4=d2_array>4\nd2_array[great_than_4]",
      "metadata": {
        "trusted": true
      },
      "outputs": [
        {
          "execution_count": 94,
          "output_type": "execute_result",
          "data": {
            "text/plain": "array([5, 6, 7, 8])"
          },
          "metadata": {}
        }
      ],
      "execution_count": 94
    },
    {
      "id": "b9256174-8366-46cc-9cff-54ea32923428",
      "cell_type": "code",
      "source": "#this is a broad casting\nd2_array+10\n",
      "metadata": {
        "trusted": true
      },
      "outputs": [
        {
          "execution_count": 96,
          "output_type": "execute_result",
          "data": {
            "text/plain": "array([[11, 12, 13, 14],\n       [15, 16, 17, 18]])"
          },
          "metadata": {}
        }
      ],
      "execution_count": 96
    },
    {
      "id": "7ccae0db-ecbd-49cc-9316-19a2441d9e8b",
      "cell_type": "code",
      "source": "arr2=np.array([[1,2,3,20],[4,5,6,10]])\nd2_array=np.array([[1,2,3,4],[5,6,7,3],[5,6,7,3],[5,6,7,3]])\nprint(np.dot(arr2,d2_array))\n\n",
      "metadata": {
        "trusted": true
      },
      "outputs": [
        {
          "name": "stdout",
          "output_type": "stream",
          "text": "[[126 152 178  79]\n [109 134 159  79]]\n"
        }
      ],
      "execution_count": 110
    },
    {
      "id": "72d1b053-4f40-40f7-9305-f5c195e52946",
      "cell_type": "code",
      "source": "print(arr2.mean())\nprint(d2_array.mean())\n",
      "metadata": {
        "trusted": true
      },
      "outputs": [
        {
          "name": "stdout",
          "output_type": "stream",
          "text": "6.375\n4.5625\n"
        }
      ],
      "execution_count": 115
    },
    {
      "id": "fd0c266c-2e5a-41ca-a665-976d16586159",
      "cell_type": "code",
      "source": "#getting the man\nprint(arr2.max())\nprint(arr2.min())\n",
      "metadata": {
        "trusted": true
      },
      "outputs": [
        {
          "name": "stdout",
          "output_type": "stream",
          "text": "20\n1\n"
        }
      ],
      "execution_count": 120
    },
    {
      "id": "eb64d538-9d3e-4a32-b36c-2910d641d547",
      "cell_type": "code",
      "source": "m_array=np.array([1,2,3,4,5])\nprint(np.diag(m_array))",
      "metadata": {
        "trusted": true
      },
      "outputs": [
        {
          "name": "stdout",
          "output_type": "stream",
          "text": "[[1 0 0 0 0]\n [0 2 0 0 0]\n [0 0 3 0 0]\n [0 0 0 4 0]\n [0 0 0 0 5]]\n"
        }
      ],
      "execution_count": 123
    },
    {
      "id": "75831ead-fa06-45f0-ad12-bad3839678d8",
      "cell_type": "code",
      "source": "#how to extract the diag from a matrix\nprint(np.diag(arr2))\nprint(arr2)",
      "metadata": {
        "trusted": true
      },
      "outputs": [
        {
          "name": "stdout",
          "output_type": "stream",
          "text": "[1 5]\n[[ 1  2  3 20]\n [ 4  5  6 10]]\n"
        }
      ],
      "execution_count": 126
    },
    {
      "id": "feca9510-47dc-490a-ae60-4862b02c35d9",
      "cell_type": "code",
      "source": "#the identity matrix \nidentity_mat=np.eye(10)\nidentity_mat",
      "metadata": {
        "trusted": true
      },
      "outputs": [
        {
          "execution_count": 133,
          "output_type": "execute_result",
          "data": {
            "text/plain": "array([[1., 0., 0., 0., 0., 0., 0., 0., 0., 0.],\n       [0., 1., 0., 0., 0., 0., 0., 0., 0., 0.],\n       [0., 0., 1., 0., 0., 0., 0., 0., 0., 0.],\n       [0., 0., 0., 1., 0., 0., 0., 0., 0., 0.],\n       [0., 0., 0., 0., 1., 0., 0., 0., 0., 0.],\n       [0., 0., 0., 0., 0., 1., 0., 0., 0., 0.],\n       [0., 0., 0., 0., 0., 0., 1., 0., 0., 0.],\n       [0., 0., 0., 0., 0., 0., 0., 1., 0., 0.],\n       [0., 0., 0., 0., 0., 0., 0., 0., 1., 0.],\n       [0., 0., 0., 0., 0., 0., 0., 0., 0., 1.]])"
          },
          "metadata": {}
        }
      ],
      "execution_count": 133
    },
    {
      "id": "177ec656-3155-47eb-950e-84b9595f69d5",
      "cell_type": "code",
      "source": "task_arr=np.array([[1,2,3,4,5],\n                   [6,7,8,9,10],\n                   [11,12,13,14,15],\n                   [16,17,18,19,20],\n                   [21,22,23,24,25],\n                   [26,27,28,29,30]])\nprint(task_arr)",
      "metadata": {
        "trusted": true
      },
      "outputs": [
        {
          "name": "stdout",
          "output_type": "stream",
          "text": "[[ 1  2  3  4  5]\n [ 6  7  8  9 10]\n [11 12 13 14 15]\n [16 17 18 19 20]\n [21 22 23 24 25]\n [26 27 28 29 30]]\n"
        }
      ],
      "execution_count": 136
    },
    {
      "id": "76119539-6d9d-4e7b-9213-3601cff15d82",
      "cell_type": "code",
      "source": "zeros_array=np.zeros((6,5))\nzeros_array[2:4,0:2]=task_arr[2:4,0:2]\nzeros_array",
      "metadata": {
        "trusted": true
      },
      "outputs": [
        {
          "execution_count": 144,
          "output_type": "execute_result",
          "data": {
            "text/plain": "array([[ 0.,  0.,  0.,  0.,  0.],\n       [ 0.,  0.,  0.,  0.,  0.],\n       [11., 12.,  0.,  0.,  0.],\n       [16., 17.,  0.,  0.,  0.],\n       [ 0.,  0.,  0.,  0.,  0.],\n       [ 0.,  0.,  0.,  0.,  0.]])"
          },
          "metadata": {}
        }
      ],
      "execution_count": 144
    },
    {
      "id": "cd384c51-bf89-4127-a873-81c92c3de940",
      "cell_type": "code",
      "source": "zeros_array=np.zeros((6,5))\nnp.diag(task_arr)\nzeros_array[0,0]=np.diag(task_arr)[0]\nzeros_array[1,1]=np.diag(task_arr)[1]\nzeros_array[2,2]=np.diag(task_arr)[2]\nzeros_array[2,2]=np.diag(task_arr)[2]\nzeros_array[3,3]=np.diag(task_arr)[3]\nzeros_array[4,4]=np.diag(task_arr)[4]\nprint(zeros_array)\n\n\n\n",
      "metadata": {
        "trusted": true
      },
      "outputs": [
        {
          "name": "stdout",
          "output_type": "stream",
          "text": "[[ 1.  0.  0.  0.  0.]\n [ 0.  7.  0.  0.  0.]\n [ 0.  0. 13.  0.  0.]\n [ 0.  0.  0. 19.  0.]\n [ 0.  0.  0.  0. 25.]\n [ 0.  0.  0.  0.  0.]]\n"
        }
      ],
      "execution_count": 153
    },
    {
      "id": "70e61354-2510-4550-aae8-3dac4fa2bece",
      "cell_type": "code",
      "source": "zeros_array=np.zeros((6,5))\nzeros_array[0,4:6]=task_arr\n",
      "metadata": {
        "trusted": true
      },
      "outputs": [
        {
          "execution_count": 155,
          "output_type": "execute_result",
          "data": {
            "text/plain": "array([0.])"
          },
          "metadata": {}
        }
      ],
      "execution_count": 155
    }
  ]
}