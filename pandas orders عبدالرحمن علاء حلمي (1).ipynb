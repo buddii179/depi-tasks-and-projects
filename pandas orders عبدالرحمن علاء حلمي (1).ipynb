{
  "metadata": {
    "kernelspec": {
      "name": "python",
      "display_name": "Python (Pyodide)",
      "language": "python"
    },
    "language_info": {
      "codemirror_mode": {
        "name": "python",
        "version": 3
      },
      "file_extension": ".py",
      "mimetype": "text/x-python",
      "name": "python",
      "nbconvert_exporter": "python",
      "pygments_lexer": "ipython3",
      "version": "3.8"
    }
  },
  "nbformat_minor": 5,
  "nbformat": 4,
  "cells": [
    {
      "id": "48b728f5-4c6a-4b8d-8bc9-5cc15e4687c0",
      "cell_type": "code",
      "source": "import pandas as pd",
      "metadata": {
        "trusted": true
      },
      "outputs": [],
      "execution_count": 1
    },
    {
      "id": "c330e8b4-c68c-4af0-bb56-20e60c85528f",
      "cell_type": "code",
      "source": "df_grades=pd.read_csv(\"Grades.csv\")\ndf_grades.head()",
      "metadata": {
        "trusted": true
      },
      "outputs": [
        {
          "execution_count": 7,
          "output_type": "execute_result",
          "data": {
            "text/plain": "    Name  Previous_Part  Participation1  Mini_Exam1  Mini_Exam2  \\\n0   Jake           32.0               1        19.5        20.0   \n1    Joe           32.0               1        20.0        16.0   \n2  Susan           30.0               1        19.0        19.0   \n3    Sol           31.0               1        22.0        13.0   \n4  Chris           30.0               1        19.0        17.0   \n\n   Participation2  Mini_Exam3  Final Grade  \n0               1        10.0   33.0     A  \n1               1        14.0   32.0     A  \n2               1        10.5   33.0    A-  \n3               1        13.0   34.0     A  \n4               1        12.5   33.5     A  ",
            "text/html": "<div>\n<style scoped>\n    .dataframe tbody tr th:only-of-type {\n        vertical-align: middle;\n    }\n\n    .dataframe tbody tr th {\n        vertical-align: top;\n    }\n\n    .dataframe thead th {\n        text-align: right;\n    }\n</style>\n<table border=\"1\" class=\"dataframe\">\n  <thead>\n    <tr style=\"text-align: right;\">\n      <th></th>\n      <th>Name</th>\n      <th>Previous_Part</th>\n      <th>Participation1</th>\n      <th>Mini_Exam1</th>\n      <th>Mini_Exam2</th>\n      <th>Participation2</th>\n      <th>Mini_Exam3</th>\n      <th>Final</th>\n      <th>Grade</th>\n    </tr>\n  </thead>\n  <tbody>\n    <tr>\n      <th>0</th>\n      <td>Jake</td>\n      <td>32.0</td>\n      <td>1</td>\n      <td>19.5</td>\n      <td>20.0</td>\n      <td>1</td>\n      <td>10.0</td>\n      <td>33.0</td>\n      <td>A</td>\n    </tr>\n    <tr>\n      <th>1</th>\n      <td>Joe</td>\n      <td>32.0</td>\n      <td>1</td>\n      <td>20.0</td>\n      <td>16.0</td>\n      <td>1</td>\n      <td>14.0</td>\n      <td>32.0</td>\n      <td>A</td>\n    </tr>\n    <tr>\n      <th>2</th>\n      <td>Susan</td>\n      <td>30.0</td>\n      <td>1</td>\n      <td>19.0</td>\n      <td>19.0</td>\n      <td>1</td>\n      <td>10.5</td>\n      <td>33.0</td>\n      <td>A-</td>\n    </tr>\n    <tr>\n      <th>3</th>\n      <td>Sol</td>\n      <td>31.0</td>\n      <td>1</td>\n      <td>22.0</td>\n      <td>13.0</td>\n      <td>1</td>\n      <td>13.0</td>\n      <td>34.0</td>\n      <td>A</td>\n    </tr>\n    <tr>\n      <th>4</th>\n      <td>Chris</td>\n      <td>30.0</td>\n      <td>1</td>\n      <td>19.0</td>\n      <td>17.0</td>\n      <td>1</td>\n      <td>12.5</td>\n      <td>33.5</td>\n      <td>A</td>\n    </tr>\n  </tbody>\n</table>\n</div>"
          },
          "metadata": {}
        }
      ],
      "execution_count": 7
    },
    {
      "id": "0155a876-a313-4e59-aec5-be28de4bb569",
      "cell_type": "code",
      "source": "df_grades.shape",
      "metadata": {
        "trusted": true
      },
      "outputs": [
        {
          "execution_count": 9,
          "output_type": "execute_result",
          "data": {
            "text/plain": "(19, 9)"
          },
          "metadata": {}
        }
      ],
      "execution_count": 9
    },
    {
      "id": "01196509-75dd-430c-8f24-23af5418829d",
      "cell_type": "code",
      "source": "#to know the datatype of each columns\ndf_grades.dtypes",
      "metadata": {
        "trusted": true
      },
      "outputs": [
        {
          "execution_count": 12,
          "output_type": "execute_result",
          "data": {
            "text/plain": "Name               object\nPrevious_Part     float64\nParticipation1      int64\nMini_Exam1        float64\nMini_Exam2        float64\nParticipation2      int64\nMini_Exam3        float64\nFinal             float64\nGrade              object\ndtype: object"
          },
          "metadata": {}
        }
      ],
      "execution_count": 12
    },
    {
      "id": "5a0287ca-c8b7-4b05-a12b-49ecb0397b5e",
      "cell_type": "code",
      "source": "#to know the columns name\ndf_grades.columns",
      "metadata": {
        "trusted": true
      },
      "outputs": [
        {
          "execution_count": 14,
          "output_type": "execute_result",
          "data": {
            "text/plain": "Index(['Name', 'Previous_Part', 'Participation1', 'Mini_Exam1', 'Mini_Exam2',\n       'Participation2', 'Mini_Exam3', 'Final', 'Grade'],\n      dtype='object')"
          },
          "metadata": {}
        }
      ],
      "execution_count": 14
    },
    {
      "id": "a2853ea7-9687-4602-8b4d-021c0b629465",
      "cell_type": "code",
      "source": "#to know the rowname\ndf_grades.index",
      "metadata": {
        "trusted": true
      },
      "outputs": [
        {
          "execution_count": 15,
          "output_type": "execute_result",
          "data": {
            "text/plain": "RangeIndex(start=0, stop=19, step=1)"
          },
          "metadata": {}
        }
      ],
      "execution_count": 15
    },
    {
      "id": "3fd9fa20-f8ac-4574-8dd7-e10c1dae2c44",
      "cell_type": "code",
      "source": "#to call a certain column\ndf_grades[\"Name\"]",
      "metadata": {
        "trusted": true
      },
      "outputs": [
        {
          "execution_count": 17,
          "output_type": "execute_result",
          "data": {
            "text/plain": "0           Jake\n1            Joe\n2          Susan\n3            Sol\n4          Chris\n5          Tarik\n6          Malik\n7           John\n8        Ronaldo\n9          Messi\n10       Michael\n11         Jimmy\n12       Charlie\n13      Jennifer\n14    Chrinstine\n15          Josh\n16       Jackson\n17           Vik\n18         Sarah\nName: Name, dtype: object"
          },
          "metadata": {}
        }
      ],
      "execution_count": 17
    },
    {
      "id": "9fd53b55-b6c9-4b79-ad6c-c087593cefce",
      "cell_type": "code",
      "source": "df_grades[[\"Name\",\"Grade\"]].head()",
      "metadata": {
        "trusted": true
      },
      "outputs": [
        {
          "execution_count": 21,
          "output_type": "execute_result",
          "data": {
            "text/plain": "    Name Grade\n0   Jake     A\n1    Joe     A\n2  Susan    A-\n3    Sol     A\n4  Chris     A",
            "text/html": "<div>\n<style scoped>\n    .dataframe tbody tr th:only-of-type {\n        vertical-align: middle;\n    }\n\n    .dataframe tbody tr th {\n        vertical-align: top;\n    }\n\n    .dataframe thead th {\n        text-align: right;\n    }\n</style>\n<table border=\"1\" class=\"dataframe\">\n  <thead>\n    <tr style=\"text-align: right;\">\n      <th></th>\n      <th>Name</th>\n      <th>Grade</th>\n    </tr>\n  </thead>\n  <tbody>\n    <tr>\n      <th>0</th>\n      <td>Jake</td>\n      <td>A</td>\n    </tr>\n    <tr>\n      <th>1</th>\n      <td>Joe</td>\n      <td>A</td>\n    </tr>\n    <tr>\n      <th>2</th>\n      <td>Susan</td>\n      <td>A-</td>\n    </tr>\n    <tr>\n      <th>3</th>\n      <td>Sol</td>\n      <td>A</td>\n    </tr>\n    <tr>\n      <th>4</th>\n      <td>Chris</td>\n      <td>A</td>\n    </tr>\n  </tbody>\n</table>\n</div>"
          },
          "metadata": {}
        }
      ],
      "execution_count": 21
    },
    {
      "id": "ba00a07d-7005-4272-8c53-3cf6c1f60948",
      "cell_type": "code",
      "source": "#when storing a column from dataframe it stored as a series\nname=df_grades[\"Name\"]\nname.head()",
      "metadata": {
        "trusted": true
      },
      "outputs": [
        {
          "execution_count": 23,
          "output_type": "execute_result",
          "data": {
            "text/plain": "0     Jake\n1      Joe\n2    Susan\n3      Sol\n4    Chris\nName: Name, dtype: object"
          },
          "metadata": {}
        }
      ],
      "execution_count": 23
    },
    {
      "id": "13ba3d9e-e149-4e12-8aae-be92f3c65ebd",
      "cell_type": "code",
      "source": "name[0:4]",
      "metadata": {
        "trusted": true
      },
      "outputs": [
        {
          "execution_count": 25,
          "output_type": "execute_result",
          "data": {
            "text/plain": "0     Jake\n1      Joe\n2    Susan\n3      Sol\nName: Name, dtype: object"
          },
          "metadata": {}
        }
      ],
      "execution_count": 25
    },
    {
      "id": "ceec483d-96c6-490d-83f5-f2ee028029f1",
      "cell_type": "code",
      "source": "df_grades.loc[0]",
      "metadata": {
        "trusted": true
      },
      "outputs": [
        {
          "execution_count": 27,
          "output_type": "execute_result",
          "data": {
            "text/plain": "Name              Jake\nPrevious_Part     32.0\nParticipation1       1\nMini_Exam1        19.5\nMini_Exam2        20.0\nParticipation2       1\nMini_Exam3        10.0\nFinal             33.0\nGrade                A\nName: 0, dtype: object"
          },
          "metadata": {}
        }
      ],
      "execution_count": 27
    },
    {
      "id": "aa5c3be2-5f01-4047-bccf-d5e969579be1",
      "cell_type": "code",
      "source": "df_grades.loc[[0,1,2,3],\"Name\"]",
      "metadata": {
        "trusted": true
      },
      "outputs": [
        {
          "execution_count": 30,
          "output_type": "execute_result",
          "data": {
            "text/plain": "0     Jake\n1      Joe\n2    Susan\n3      Sol\nName: Name, dtype: object"
          },
          "metadata": {}
        }
      ],
      "execution_count": 30
    },
    {
      "id": "2f63bb23-28c9-4658-9f9c-b5d7cfefbdb8",
      "cell_type": "code",
      "source": "#avg of a numerical column\navg_final=df_grades[\"Final\"].mean()\navg_final",
      "metadata": {
        "trusted": true
      },
      "outputs": [
        {
          "execution_count": 34,
          "output_type": "execute_result",
          "data": {
            "text/plain": "np.float64(31.81578947368421)"
          },
          "metadata": {}
        }
      ],
      "execution_count": 34
    },
    {
      "id": "ab2d94ab-ceba-417a-912f-69ff08e2be96",
      "cell_type": "code",
      "source": "#info of a dataframe\ndf_grades.info()",
      "metadata": {
        "trusted": true
      },
      "outputs": [
        {
          "name": "stdout",
          "output_type": "stream",
          "text": "<class 'pandas.core.frame.DataFrame'>\nRangeIndex: 19 entries, 0 to 18\nData columns (total 9 columns):\n #   Column          Non-Null Count  Dtype  \n---  ------          --------------  -----  \n 0   Name            19 non-null     object \n 1   Previous_Part   19 non-null     float64\n 2   Participation1  19 non-null     int64  \n 3   Mini_Exam1      19 non-null     float64\n 4   Mini_Exam2      19 non-null     float64\n 5   Participation2  19 non-null     int64  \n 6   Mini_Exam3      19 non-null     float64\n 7   Final           19 non-null     float64\n 8   Grade           19 non-null     object \ndtypes: float64(5), int64(2), object(2)\nmemory usage: 1.3+ KB\n"
        }
      ],
      "execution_count": 33
    },
    {
      "id": "0fe9cc16-a428-45cd-a884-83dfce95fd6f",
      "cell_type": "code",
      "source": "df_grades[\"Final\"].max()",
      "metadata": {
        "trusted": true
      },
      "outputs": [
        {
          "execution_count": 36,
          "output_type": "execute_result",
          "data": {
            "text/plain": "np.float64(42.0)"
          },
          "metadata": {}
        }
      ],
      "execution_count": 36
    },
    {
      "id": "c66ce57a-aee5-41e3-9441-e143796790f8",
      "cell_type": "code",
      "source": "#to have a summry of a dataframe\ndf_grades.describe()",
      "metadata": {
        "trusted": true
      },
      "outputs": [
        {
          "execution_count": 38,
          "output_type": "execute_result",
          "data": {
            "text/plain": "       Previous_Part  Participation1  Mini_Exam1  Mini_Exam2  Participation2  \\\ncount      19.000000       19.000000   19.000000   19.000000            19.0   \nmean       29.500000        0.947368   18.026316   17.052632             1.0   \nstd         2.848001        0.229416    3.360199    2.753254             0.0   \nmin        22.000000        0.000000    7.000000   12.000000             1.0   \n25%        28.500000        1.000000   17.500000   15.500000             1.0   \n50%        30.000000        1.000000   19.000000   18.000000             1.0   \n75%        31.500000        1.000000   20.000000   19.000000             1.0   \nmax        33.000000        1.000000   22.000000   21.000000             1.0   \n\n       Mini_Exam3      Final  \ncount   19.000000  19.000000  \nmean    10.526316  31.815789  \nstd      2.796196   4.913729  \nmin      5.500000  21.000000  \n25%      9.000000  31.000000  \n50%     10.000000  32.000000  \n75%     12.750000  34.000000  \nmax     17.000000  42.000000  ",
            "text/html": "<div>\n<style scoped>\n    .dataframe tbody tr th:only-of-type {\n        vertical-align: middle;\n    }\n\n    .dataframe tbody tr th {\n        vertical-align: top;\n    }\n\n    .dataframe thead th {\n        text-align: right;\n    }\n</style>\n<table border=\"1\" class=\"dataframe\">\n  <thead>\n    <tr style=\"text-align: right;\">\n      <th></th>\n      <th>Previous_Part</th>\n      <th>Participation1</th>\n      <th>Mini_Exam1</th>\n      <th>Mini_Exam2</th>\n      <th>Participation2</th>\n      <th>Mini_Exam3</th>\n      <th>Final</th>\n    </tr>\n  </thead>\n  <tbody>\n    <tr>\n      <th>count</th>\n      <td>19.000000</td>\n      <td>19.000000</td>\n      <td>19.000000</td>\n      <td>19.000000</td>\n      <td>19.0</td>\n      <td>19.000000</td>\n      <td>19.000000</td>\n    </tr>\n    <tr>\n      <th>mean</th>\n      <td>29.500000</td>\n      <td>0.947368</td>\n      <td>18.026316</td>\n      <td>17.052632</td>\n      <td>1.0</td>\n      <td>10.526316</td>\n      <td>31.815789</td>\n    </tr>\n    <tr>\n      <th>std</th>\n      <td>2.848001</td>\n      <td>0.229416</td>\n      <td>3.360199</td>\n      <td>2.753254</td>\n      <td>0.0</td>\n      <td>2.796196</td>\n      <td>4.913729</td>\n    </tr>\n    <tr>\n      <th>min</th>\n      <td>22.000000</td>\n      <td>0.000000</td>\n      <td>7.000000</td>\n      <td>12.000000</td>\n      <td>1.0</td>\n      <td>5.500000</td>\n      <td>21.000000</td>\n    </tr>\n    <tr>\n      <th>25%</th>\n      <td>28.500000</td>\n      <td>1.000000</td>\n      <td>17.500000</td>\n      <td>15.500000</td>\n      <td>1.0</td>\n      <td>9.000000</td>\n      <td>31.000000</td>\n    </tr>\n    <tr>\n      <th>50%</th>\n      <td>30.000000</td>\n      <td>1.000000</td>\n      <td>19.000000</td>\n      <td>18.000000</td>\n      <td>1.0</td>\n      <td>10.000000</td>\n      <td>32.000000</td>\n    </tr>\n    <tr>\n      <th>75%</th>\n      <td>31.500000</td>\n      <td>1.000000</td>\n      <td>20.000000</td>\n      <td>19.000000</td>\n      <td>1.0</td>\n      <td>12.750000</td>\n      <td>34.000000</td>\n    </tr>\n    <tr>\n      <th>max</th>\n      <td>33.000000</td>\n      <td>1.000000</td>\n      <td>22.000000</td>\n      <td>21.000000</td>\n      <td>1.0</td>\n      <td>17.000000</td>\n      <td>42.000000</td>\n    </tr>\n  </tbody>\n</table>\n</div>"
          },
          "metadata": {}
        }
      ],
      "execution_count": 38
    },
    {
      "id": "7f584459-0209-4fc0-9f65-2b69b799c25b",
      "cell_type": "code",
      "source": "df_grades[\"Final percentage\"]=(df_grades[\"Final\"]/42)*100\ndf_grades[\"Final percentage\"]\n",
      "metadata": {
        "trusted": true
      },
      "outputs": [
        {
          "execution_count": 45,
          "output_type": "execute_result",
          "data": {
            "text/plain": "0      78.571429\n1      76.190476\n2      78.571429\n3      80.952381\n4      79.761905\n5      57.142857\n6      85.714286\n7      76.190476\n8     100.000000\n9      88.095238\n10     71.428571\n11     73.809524\n12     80.952381\n13     76.190476\n14     73.809524\n15     54.761905\n16     73.809524\n17     83.333333\n18     50.000000\nName: Final percentage, dtype: float64"
          },
          "metadata": {}
        }
      ],
      "execution_count": 45
    },
    {
      "id": "af51a1db-8ba4-4cbe-bfa4-131eecd20359",
      "cell_type": "code",
      "source": "#to delete a columns we use drop fun\ndf_grades.drop(\"Name\",axis=1)\n",
      "metadata": {
        "trusted": true
      },
      "outputs": [
        {
          "execution_count": 47,
          "output_type": "execute_result",
          "data": {
            "text/plain": "    Previous_Part  Participation1  Mini_Exam1  Mini_Exam2  Participation2  \\\n0            32.0               1        19.5        20.0               1   \n1            32.0               1        20.0        16.0               1   \n2            30.0               1        19.0        19.0               1   \n3            31.0               1        22.0        13.0               1   \n4            30.0               1        19.0        17.0               1   \n5            31.0               1        19.0        19.0               1   \n6            31.5               1        20.0        21.0               1   \n7            28.5               1        20.0        18.0               1   \n8            33.0               1        20.0        20.0               1   \n9            30.5               1        17.0        18.0               1   \n10           29.0               1        20.0        20.0               1   \n11           27.5               0         7.0        13.0               1   \n12           32.0               1        20.0        17.0               1   \n13           28.5               1        19.0        18.0               1   \n14           29.0               1        13.0        15.5               1   \n15           23.5               1        17.0        12.0               1   \n16           28.0               1        18.0        15.5               1   \n17           31.5               1        15.0        19.0               1   \n18           22.0               1        18.0        13.0               1   \n\n    Mini_Exam3  Final Grade  Final percentage  \n0         10.0   33.0     A         78.571429  \n1         14.0   32.0     A         76.190476  \n2         10.5   33.0    A-         78.571429  \n3         13.0   34.0     A         80.952381  \n4         12.5   33.5     A         79.761905  \n5          8.0   24.0     B         57.142857  \n6          9.0   36.0     A         85.714286  \n7         10.0   32.0    B+         76.190476  \n8         17.0   42.0    A+        100.000000  \n9          9.0   37.0    A-         88.095238  \n10        14.0   30.0     A         71.428571  \n11         5.5   31.0    B-         73.809524  \n12        11.0   34.0     A         80.952381  \n13        10.0   32.0    B+         76.190476  \n14         9.0   31.0     B         73.809524  \n15         8.5   23.0    C+         54.761905  \n16         7.0   31.0     B         73.809524  \n17        13.0   35.0     A         83.333333  \n18         9.0   21.0    C+         50.000000  ",
            "text/html": "<div>\n<style scoped>\n    .dataframe tbody tr th:only-of-type {\n        vertical-align: middle;\n    }\n\n    .dataframe tbody tr th {\n        vertical-align: top;\n    }\n\n    .dataframe thead th {\n        text-align: right;\n    }\n</style>\n<table border=\"1\" class=\"dataframe\">\n  <thead>\n    <tr style=\"text-align: right;\">\n      <th></th>\n      <th>Previous_Part</th>\n      <th>Participation1</th>\n      <th>Mini_Exam1</th>\n      <th>Mini_Exam2</th>\n      <th>Participation2</th>\n      <th>Mini_Exam3</th>\n      <th>Final</th>\n      <th>Grade</th>\n      <th>Final percentage</th>\n    </tr>\n  </thead>\n  <tbody>\n    <tr>\n      <th>0</th>\n      <td>32.0</td>\n      <td>1</td>\n      <td>19.5</td>\n      <td>20.0</td>\n      <td>1</td>\n      <td>10.0</td>\n      <td>33.0</td>\n      <td>A</td>\n      <td>78.571429</td>\n    </tr>\n    <tr>\n      <th>1</th>\n      <td>32.0</td>\n      <td>1</td>\n      <td>20.0</td>\n      <td>16.0</td>\n      <td>1</td>\n      <td>14.0</td>\n      <td>32.0</td>\n      <td>A</td>\n      <td>76.190476</td>\n    </tr>\n    <tr>\n      <th>2</th>\n      <td>30.0</td>\n      <td>1</td>\n      <td>19.0</td>\n      <td>19.0</td>\n      <td>1</td>\n      <td>10.5</td>\n      <td>33.0</td>\n      <td>A-</td>\n      <td>78.571429</td>\n    </tr>\n    <tr>\n      <th>3</th>\n      <td>31.0</td>\n      <td>1</td>\n      <td>22.0</td>\n      <td>13.0</td>\n      <td>1</td>\n      <td>13.0</td>\n      <td>34.0</td>\n      <td>A</td>\n      <td>80.952381</td>\n    </tr>\n    <tr>\n      <th>4</th>\n      <td>30.0</td>\n      <td>1</td>\n      <td>19.0</td>\n      <td>17.0</td>\n      <td>1</td>\n      <td>12.5</td>\n      <td>33.5</td>\n      <td>A</td>\n      <td>79.761905</td>\n    </tr>\n    <tr>\n      <th>5</th>\n      <td>31.0</td>\n      <td>1</td>\n      <td>19.0</td>\n      <td>19.0</td>\n      <td>1</td>\n      <td>8.0</td>\n      <td>24.0</td>\n      <td>B</td>\n      <td>57.142857</td>\n    </tr>\n    <tr>\n      <th>6</th>\n      <td>31.5</td>\n      <td>1</td>\n      <td>20.0</td>\n      <td>21.0</td>\n      <td>1</td>\n      <td>9.0</td>\n      <td>36.0</td>\n      <td>A</td>\n      <td>85.714286</td>\n    </tr>\n    <tr>\n      <th>7</th>\n      <td>28.5</td>\n      <td>1</td>\n      <td>20.0</td>\n      <td>18.0</td>\n      <td>1</td>\n      <td>10.0</td>\n      <td>32.0</td>\n      <td>B+</td>\n      <td>76.190476</td>\n    </tr>\n    <tr>\n      <th>8</th>\n      <td>33.0</td>\n      <td>1</td>\n      <td>20.0</td>\n      <td>20.0</td>\n      <td>1</td>\n      <td>17.0</td>\n      <td>42.0</td>\n      <td>A+</td>\n      <td>100.000000</td>\n    </tr>\n    <tr>\n      <th>9</th>\n      <td>30.5</td>\n      <td>1</td>\n      <td>17.0</td>\n      <td>18.0</td>\n      <td>1</td>\n      <td>9.0</td>\n      <td>37.0</td>\n      <td>A-</td>\n      <td>88.095238</td>\n    </tr>\n    <tr>\n      <th>10</th>\n      <td>29.0</td>\n      <td>1</td>\n      <td>20.0</td>\n      <td>20.0</td>\n      <td>1</td>\n      <td>14.0</td>\n      <td>30.0</td>\n      <td>A</td>\n      <td>71.428571</td>\n    </tr>\n    <tr>\n      <th>11</th>\n      <td>27.5</td>\n      <td>0</td>\n      <td>7.0</td>\n      <td>13.0</td>\n      <td>1</td>\n      <td>5.5</td>\n      <td>31.0</td>\n      <td>B-</td>\n      <td>73.809524</td>\n    </tr>\n    <tr>\n      <th>12</th>\n      <td>32.0</td>\n      <td>1</td>\n      <td>20.0</td>\n      <td>17.0</td>\n      <td>1</td>\n      <td>11.0</td>\n      <td>34.0</td>\n      <td>A</td>\n      <td>80.952381</td>\n    </tr>\n    <tr>\n      <th>13</th>\n      <td>28.5</td>\n      <td>1</td>\n      <td>19.0</td>\n      <td>18.0</td>\n      <td>1</td>\n      <td>10.0</td>\n      <td>32.0</td>\n      <td>B+</td>\n      <td>76.190476</td>\n    </tr>\n    <tr>\n      <th>14</th>\n      <td>29.0</td>\n      <td>1</td>\n      <td>13.0</td>\n      <td>15.5</td>\n      <td>1</td>\n      <td>9.0</td>\n      <td>31.0</td>\n      <td>B</td>\n      <td>73.809524</td>\n    </tr>\n    <tr>\n      <th>15</th>\n      <td>23.5</td>\n      <td>1</td>\n      <td>17.0</td>\n      <td>12.0</td>\n      <td>1</td>\n      <td>8.5</td>\n      <td>23.0</td>\n      <td>C+</td>\n      <td>54.761905</td>\n    </tr>\n    <tr>\n      <th>16</th>\n      <td>28.0</td>\n      <td>1</td>\n      <td>18.0</td>\n      <td>15.5</td>\n      <td>1</td>\n      <td>7.0</td>\n      <td>31.0</td>\n      <td>B</td>\n      <td>73.809524</td>\n    </tr>\n    <tr>\n      <th>17</th>\n      <td>31.5</td>\n      <td>1</td>\n      <td>15.0</td>\n      <td>19.0</td>\n      <td>1</td>\n      <td>13.0</td>\n      <td>35.0</td>\n      <td>A</td>\n      <td>83.333333</td>\n    </tr>\n    <tr>\n      <th>18</th>\n      <td>22.0</td>\n      <td>1</td>\n      <td>18.0</td>\n      <td>13.0</td>\n      <td>1</td>\n      <td>9.0</td>\n      <td>21.0</td>\n      <td>C+</td>\n      <td>50.000000</td>\n    </tr>\n  </tbody>\n</table>\n</div>"
          },
          "metadata": {}
        }
      ],
      "execution_count": 47
    },
    {
      "id": "708e1f9e-d09b-4ff8-af92-d2143e7f5b80",
      "cell_type": "code",
      "source": "#to delete a columen permenatly\ndf_grades.drop(\"Final percentage\",axis=1,inplace=True)",
      "metadata": {
        "trusted": true
      },
      "outputs": [
        {
          "ename": "<class 'KeyError'>",
          "evalue": "\"['Final percentage'] not found in axis\"",
          "traceback": [
            "\u001b[0;31m---------------------------------------------------------------------------\u001b[0m",
            "\u001b[0;31mKeyError\u001b[0m                                  Traceback (most recent call last)",
            "Cell \u001b[0;32mIn[56], line 2\u001b[0m\n\u001b[1;32m      1\u001b[0m \u001b[38;5;66;03m#to delete a columen permenatly\u001b[39;00m\n\u001b[0;32m----> 2\u001b[0m \u001b[43mdf_grades\u001b[49m\u001b[38;5;241;43m.\u001b[39;49m\u001b[43mdrop\u001b[49m\u001b[43m(\u001b[49m\u001b[38;5;124;43m\"\u001b[39;49m\u001b[38;5;124;43mFinal percentage\u001b[39;49m\u001b[38;5;124;43m\"\u001b[39;49m\u001b[43m,\u001b[49m\u001b[43maxis\u001b[49m\u001b[38;5;241;43m=\u001b[39;49m\u001b[38;5;241;43m1\u001b[39;49m\u001b[43m,\u001b[49m\u001b[43minplace\u001b[49m\u001b[38;5;241;43m=\u001b[39;49m\u001b[38;5;28;43;01mTrue\u001b[39;49;00m\u001b[43m)\u001b[49m\n",
            "File \u001b[0;32m/lib/python3.12/site-packages/pandas/core/frame.py:5581\u001b[0m, in \u001b[0;36mDataFrame.drop\u001b[0;34m(self, labels, axis, index, columns, level, inplace, errors)\u001b[0m\n\u001b[1;32m   5433\u001b[0m \u001b[38;5;28;01mdef\u001b[39;00m \u001b[38;5;21mdrop\u001b[39m(\n\u001b[1;32m   5434\u001b[0m     \u001b[38;5;28mself\u001b[39m,\n\u001b[1;32m   5435\u001b[0m     labels: IndexLabel \u001b[38;5;241m|\u001b[39m \u001b[38;5;28;01mNone\u001b[39;00m \u001b[38;5;241m=\u001b[39m \u001b[38;5;28;01mNone\u001b[39;00m,\n\u001b[0;32m   (...)\u001b[0m\n\u001b[1;32m   5442\u001b[0m     errors: IgnoreRaise \u001b[38;5;241m=\u001b[39m \u001b[38;5;124m\"\u001b[39m\u001b[38;5;124mraise\u001b[39m\u001b[38;5;124m\"\u001b[39m,\n\u001b[1;32m   5443\u001b[0m ) \u001b[38;5;241m-\u001b[39m\u001b[38;5;241m>\u001b[39m DataFrame \u001b[38;5;241m|\u001b[39m \u001b[38;5;28;01mNone\u001b[39;00m:\n\u001b[1;32m   5444\u001b[0m \u001b[38;5;250m    \u001b[39m\u001b[38;5;124;03m\"\"\"\u001b[39;00m\n\u001b[1;32m   5445\u001b[0m \u001b[38;5;124;03m    Drop specified labels from rows or columns.\u001b[39;00m\n\u001b[1;32m   5446\u001b[0m \n\u001b[0;32m   (...)\u001b[0m\n\u001b[1;32m   5579\u001b[0m \u001b[38;5;124;03m            weight  1.0     0.8\u001b[39;00m\n\u001b[1;32m   5580\u001b[0m \u001b[38;5;124;03m    \"\"\"\u001b[39;00m\n\u001b[0;32m-> 5581\u001b[0m     \u001b[38;5;28;01mreturn\u001b[39;00m \u001b[38;5;28;43msuper\u001b[39;49m\u001b[43m(\u001b[49m\u001b[43m)\u001b[49m\u001b[38;5;241;43m.\u001b[39;49m\u001b[43mdrop\u001b[49m\u001b[43m(\u001b[49m\n\u001b[1;32m   5582\u001b[0m \u001b[43m        \u001b[49m\u001b[43mlabels\u001b[49m\u001b[38;5;241;43m=\u001b[39;49m\u001b[43mlabels\u001b[49m\u001b[43m,\u001b[49m\n\u001b[1;32m   5583\u001b[0m \u001b[43m        \u001b[49m\u001b[43maxis\u001b[49m\u001b[38;5;241;43m=\u001b[39;49m\u001b[43maxis\u001b[49m\u001b[43m,\u001b[49m\n\u001b[1;32m   5584\u001b[0m \u001b[43m        \u001b[49m\u001b[43mindex\u001b[49m\u001b[38;5;241;43m=\u001b[39;49m\u001b[43mindex\u001b[49m\u001b[43m,\u001b[49m\n\u001b[1;32m   5585\u001b[0m \u001b[43m        \u001b[49m\u001b[43mcolumns\u001b[49m\u001b[38;5;241;43m=\u001b[39;49m\u001b[43mcolumns\u001b[49m\u001b[43m,\u001b[49m\n\u001b[1;32m   5586\u001b[0m \u001b[43m        \u001b[49m\u001b[43mlevel\u001b[49m\u001b[38;5;241;43m=\u001b[39;49m\u001b[43mlevel\u001b[49m\u001b[43m,\u001b[49m\n\u001b[1;32m   5587\u001b[0m \u001b[43m        \u001b[49m\u001b[43minplace\u001b[49m\u001b[38;5;241;43m=\u001b[39;49m\u001b[43minplace\u001b[49m\u001b[43m,\u001b[49m\n\u001b[1;32m   5588\u001b[0m \u001b[43m        \u001b[49m\u001b[43merrors\u001b[49m\u001b[38;5;241;43m=\u001b[39;49m\u001b[43merrors\u001b[49m\u001b[43m,\u001b[49m\n\u001b[1;32m   5589\u001b[0m \u001b[43m    \u001b[49m\u001b[43m)\u001b[49m\n",
            "File \u001b[0;32m/lib/python3.12/site-packages/pandas/core/generic.py:4788\u001b[0m, in \u001b[0;36mNDFrame.drop\u001b[0;34m(self, labels, axis, index, columns, level, inplace, errors)\u001b[0m\n\u001b[1;32m   4786\u001b[0m \u001b[38;5;28;01mfor\u001b[39;00m axis, labels \u001b[38;5;129;01min\u001b[39;00m axes\u001b[38;5;241m.\u001b[39mitems():\n\u001b[1;32m   4787\u001b[0m     \u001b[38;5;28;01mif\u001b[39;00m labels \u001b[38;5;129;01mis\u001b[39;00m \u001b[38;5;129;01mnot\u001b[39;00m \u001b[38;5;28;01mNone\u001b[39;00m:\n\u001b[0;32m-> 4788\u001b[0m         obj \u001b[38;5;241m=\u001b[39m \u001b[43mobj\u001b[49m\u001b[38;5;241;43m.\u001b[39;49m\u001b[43m_drop_axis\u001b[49m\u001b[43m(\u001b[49m\u001b[43mlabels\u001b[49m\u001b[43m,\u001b[49m\u001b[43m \u001b[49m\u001b[43maxis\u001b[49m\u001b[43m,\u001b[49m\u001b[43m \u001b[49m\u001b[43mlevel\u001b[49m\u001b[38;5;241;43m=\u001b[39;49m\u001b[43mlevel\u001b[49m\u001b[43m,\u001b[49m\u001b[43m \u001b[49m\u001b[43merrors\u001b[49m\u001b[38;5;241;43m=\u001b[39;49m\u001b[43merrors\u001b[49m\u001b[43m)\u001b[49m\n\u001b[1;32m   4790\u001b[0m \u001b[38;5;28;01mif\u001b[39;00m inplace:\n\u001b[1;32m   4791\u001b[0m     \u001b[38;5;28mself\u001b[39m\u001b[38;5;241m.\u001b[39m_update_inplace(obj)\n",
            "File \u001b[0;32m/lib/python3.12/site-packages/pandas/core/generic.py:4830\u001b[0m, in \u001b[0;36mNDFrame._drop_axis\u001b[0;34m(self, labels, axis, level, errors, only_slice)\u001b[0m\n\u001b[1;32m   4828\u001b[0m         new_axis \u001b[38;5;241m=\u001b[39m axis\u001b[38;5;241m.\u001b[39mdrop(labels, level\u001b[38;5;241m=\u001b[39mlevel, errors\u001b[38;5;241m=\u001b[39merrors)\n\u001b[1;32m   4829\u001b[0m     \u001b[38;5;28;01melse\u001b[39;00m:\n\u001b[0;32m-> 4830\u001b[0m         new_axis \u001b[38;5;241m=\u001b[39m \u001b[43maxis\u001b[49m\u001b[38;5;241;43m.\u001b[39;49m\u001b[43mdrop\u001b[49m\u001b[43m(\u001b[49m\u001b[43mlabels\u001b[49m\u001b[43m,\u001b[49m\u001b[43m \u001b[49m\u001b[43merrors\u001b[49m\u001b[38;5;241;43m=\u001b[39;49m\u001b[43merrors\u001b[49m\u001b[43m)\u001b[49m\n\u001b[1;32m   4831\u001b[0m     indexer \u001b[38;5;241m=\u001b[39m axis\u001b[38;5;241m.\u001b[39mget_indexer(new_axis)\n\u001b[1;32m   4833\u001b[0m \u001b[38;5;66;03m# Case for non-unique axis\u001b[39;00m\n\u001b[1;32m   4834\u001b[0m \u001b[38;5;28;01melse\u001b[39;00m:\n",
            "File \u001b[0;32m/lib/python3.12/site-packages/pandas/core/indexes/base.py:7070\u001b[0m, in \u001b[0;36mIndex.drop\u001b[0;34m(self, labels, errors)\u001b[0m\n\u001b[1;32m   7068\u001b[0m \u001b[38;5;28;01mif\u001b[39;00m mask\u001b[38;5;241m.\u001b[39many():\n\u001b[1;32m   7069\u001b[0m     \u001b[38;5;28;01mif\u001b[39;00m errors \u001b[38;5;241m!=\u001b[39m \u001b[38;5;124m\"\u001b[39m\u001b[38;5;124mignore\u001b[39m\u001b[38;5;124m\"\u001b[39m:\n\u001b[0;32m-> 7070\u001b[0m         \u001b[38;5;28;01mraise\u001b[39;00m \u001b[38;5;167;01mKeyError\u001b[39;00m(\u001b[38;5;124mf\u001b[39m\u001b[38;5;124m\"\u001b[39m\u001b[38;5;132;01m{\u001b[39;00mlabels[mask]\u001b[38;5;241m.\u001b[39mtolist()\u001b[38;5;132;01m}\u001b[39;00m\u001b[38;5;124m not found in axis\u001b[39m\u001b[38;5;124m\"\u001b[39m)\n\u001b[1;32m   7071\u001b[0m     indexer \u001b[38;5;241m=\u001b[39m indexer[\u001b[38;5;241m~\u001b[39mmask]\n\u001b[1;32m   7072\u001b[0m \u001b[38;5;28;01mreturn\u001b[39;00m \u001b[38;5;28mself\u001b[39m\u001b[38;5;241m.\u001b[39mdelete(indexer)\n",
            "\u001b[0;31mKeyError\u001b[0m: \"['Final percentage'] not found in axis\""
          ],
          "output_type": "error"
        }
      ],
      "execution_count": 56
    },
    {
      "id": "ab83db35-be41-470f-801b-fe4bc9fbe674",
      "cell_type": "code",
      "source": "#dealing with missing values\ndf_grades.isna()",
      "metadata": {
        "trusted": true
      },
      "outputs": [
        {
          "execution_count": 58,
          "output_type": "execute_result",
          "data": {
            "text/plain": "     Name  Previous_Part  Participation1  Mini_Exam1  Mini_Exam2  \\\n0   False          False           False       False       False   \n1   False          False           False       False       False   \n2   False          False           False       False       False   \n3   False          False           False       False       False   \n4   False          False           False       False       False   \n5   False          False           False       False       False   \n6   False          False           False       False       False   \n7   False          False           False       False       False   \n8   False          False           False       False       False   \n9   False          False           False       False       False   \n10  False          False           False       False       False   \n11  False          False           False       False       False   \n12  False          False           False       False       False   \n13  False          False           False       False       False   \n14  False          False           False       False       False   \n15  False          False           False       False       False   \n16  False          False           False       False       False   \n17  False          False           False       False       False   \n18  False          False           False       False       False   \n\n    Participation2  Mini_Exam3  Final  Grade  \n0            False       False  False  False  \n1            False       False  False  False  \n2            False       False  False  False  \n3            False       False  False  False  \n4            False       False  False  False  \n5            False       False  False  False  \n6            False       False  False  False  \n7            False       False  False  False  \n8            False       False  False  False  \n9            False       False  False  False  \n10           False       False  False  False  \n11           False       False  False  False  \n12           False       False  False  False  \n13           False       False  False  False  \n14           False       False  False  False  \n15           False       False  False  False  \n16           False       False  False  False  \n17           False       False  False  False  \n18           False       False  False  False  ",
            "text/html": "<div>\n<style scoped>\n    .dataframe tbody tr th:only-of-type {\n        vertical-align: middle;\n    }\n\n    .dataframe tbody tr th {\n        vertical-align: top;\n    }\n\n    .dataframe thead th {\n        text-align: right;\n    }\n</style>\n<table border=\"1\" class=\"dataframe\">\n  <thead>\n    <tr style=\"text-align: right;\">\n      <th></th>\n      <th>Name</th>\n      <th>Previous_Part</th>\n      <th>Participation1</th>\n      <th>Mini_Exam1</th>\n      <th>Mini_Exam2</th>\n      <th>Participation2</th>\n      <th>Mini_Exam3</th>\n      <th>Final</th>\n      <th>Grade</th>\n    </tr>\n  </thead>\n  <tbody>\n    <tr>\n      <th>0</th>\n      <td>False</td>\n      <td>False</td>\n      <td>False</td>\n      <td>False</td>\n      <td>False</td>\n      <td>False</td>\n      <td>False</td>\n      <td>False</td>\n      <td>False</td>\n    </tr>\n    <tr>\n      <th>1</th>\n      <td>False</td>\n      <td>False</td>\n      <td>False</td>\n      <td>False</td>\n      <td>False</td>\n      <td>False</td>\n      <td>False</td>\n      <td>False</td>\n      <td>False</td>\n    </tr>\n    <tr>\n      <th>2</th>\n      <td>False</td>\n      <td>False</td>\n      <td>False</td>\n      <td>False</td>\n      <td>False</td>\n      <td>False</td>\n      <td>False</td>\n      <td>False</td>\n      <td>False</td>\n    </tr>\n    <tr>\n      <th>3</th>\n      <td>False</td>\n      <td>False</td>\n      <td>False</td>\n      <td>False</td>\n      <td>False</td>\n      <td>False</td>\n      <td>False</td>\n      <td>False</td>\n      <td>False</td>\n    </tr>\n    <tr>\n      <th>4</th>\n      <td>False</td>\n      <td>False</td>\n      <td>False</td>\n      <td>False</td>\n      <td>False</td>\n      <td>False</td>\n      <td>False</td>\n      <td>False</td>\n      <td>False</td>\n    </tr>\n    <tr>\n      <th>5</th>\n      <td>False</td>\n      <td>False</td>\n      <td>False</td>\n      <td>False</td>\n      <td>False</td>\n      <td>False</td>\n      <td>False</td>\n      <td>False</td>\n      <td>False</td>\n    </tr>\n    <tr>\n      <th>6</th>\n      <td>False</td>\n      <td>False</td>\n      <td>False</td>\n      <td>False</td>\n      <td>False</td>\n      <td>False</td>\n      <td>False</td>\n      <td>False</td>\n      <td>False</td>\n    </tr>\n    <tr>\n      <th>7</th>\n      <td>False</td>\n      <td>False</td>\n      <td>False</td>\n      <td>False</td>\n      <td>False</td>\n      <td>False</td>\n      <td>False</td>\n      <td>False</td>\n      <td>False</td>\n    </tr>\n    <tr>\n      <th>8</th>\n      <td>False</td>\n      <td>False</td>\n      <td>False</td>\n      <td>False</td>\n      <td>False</td>\n      <td>False</td>\n      <td>False</td>\n      <td>False</td>\n      <td>False</td>\n    </tr>\n    <tr>\n      <th>9</th>\n      <td>False</td>\n      <td>False</td>\n      <td>False</td>\n      <td>False</td>\n      <td>False</td>\n      <td>False</td>\n      <td>False</td>\n      <td>False</td>\n      <td>False</td>\n    </tr>\n    <tr>\n      <th>10</th>\n      <td>False</td>\n      <td>False</td>\n      <td>False</td>\n      <td>False</td>\n      <td>False</td>\n      <td>False</td>\n      <td>False</td>\n      <td>False</td>\n      <td>False</td>\n    </tr>\n    <tr>\n      <th>11</th>\n      <td>False</td>\n      <td>False</td>\n      <td>False</td>\n      <td>False</td>\n      <td>False</td>\n      <td>False</td>\n      <td>False</td>\n      <td>False</td>\n      <td>False</td>\n    </tr>\n    <tr>\n      <th>12</th>\n      <td>False</td>\n      <td>False</td>\n      <td>False</td>\n      <td>False</td>\n      <td>False</td>\n      <td>False</td>\n      <td>False</td>\n      <td>False</td>\n      <td>False</td>\n    </tr>\n    <tr>\n      <th>13</th>\n      <td>False</td>\n      <td>False</td>\n      <td>False</td>\n      <td>False</td>\n      <td>False</td>\n      <td>False</td>\n      <td>False</td>\n      <td>False</td>\n      <td>False</td>\n    </tr>\n    <tr>\n      <th>14</th>\n      <td>False</td>\n      <td>False</td>\n      <td>False</td>\n      <td>False</td>\n      <td>False</td>\n      <td>False</td>\n      <td>False</td>\n      <td>False</td>\n      <td>False</td>\n    </tr>\n    <tr>\n      <th>15</th>\n      <td>False</td>\n      <td>False</td>\n      <td>False</td>\n      <td>False</td>\n      <td>False</td>\n      <td>False</td>\n      <td>False</td>\n      <td>False</td>\n      <td>False</td>\n    </tr>\n    <tr>\n      <th>16</th>\n      <td>False</td>\n      <td>False</td>\n      <td>False</td>\n      <td>False</td>\n      <td>False</td>\n      <td>False</td>\n      <td>False</td>\n      <td>False</td>\n      <td>False</td>\n    </tr>\n    <tr>\n      <th>17</th>\n      <td>False</td>\n      <td>False</td>\n      <td>False</td>\n      <td>False</td>\n      <td>False</td>\n      <td>False</td>\n      <td>False</td>\n      <td>False</td>\n      <td>False</td>\n    </tr>\n    <tr>\n      <th>18</th>\n      <td>False</td>\n      <td>False</td>\n      <td>False</td>\n      <td>False</td>\n      <td>False</td>\n      <td>False</td>\n      <td>False</td>\n      <td>False</td>\n      <td>False</td>\n    </tr>\n  </tbody>\n</table>\n</div>"
          },
          "metadata": {}
        }
      ],
      "execution_count": 58
    },
    {
      "id": "4cfeef05-c963-4546-9b31-ff161237275c",
      "cell_type": "code",
      "source": "df_grades.dropna()",
      "metadata": {
        "trusted": true
      },
      "outputs": [
        {
          "execution_count": 60,
          "output_type": "execute_result",
          "data": {
            "text/plain": "          Name  Previous_Part  Participation1  Mini_Exam1  Mini_Exam2  \\\n0         Jake           32.0               1        19.5        20.0   \n1          Joe           32.0               1        20.0        16.0   \n2        Susan           30.0               1        19.0        19.0   \n3          Sol           31.0               1        22.0        13.0   \n4        Chris           30.0               1        19.0        17.0   \n5        Tarik           31.0               1        19.0        19.0   \n6        Malik           31.5               1        20.0        21.0   \n7         John           28.5               1        20.0        18.0   \n8      Ronaldo           33.0               1        20.0        20.0   \n9        Messi           30.5               1        17.0        18.0   \n10     Michael           29.0               1        20.0        20.0   \n11       Jimmy           27.5               0         7.0        13.0   \n12     Charlie           32.0               1        20.0        17.0   \n13    Jennifer           28.5               1        19.0        18.0   \n14  Chrinstine           29.0               1        13.0        15.5   \n15        Josh           23.5               1        17.0        12.0   \n16     Jackson           28.0               1        18.0        15.5   \n17         Vik           31.5               1        15.0        19.0   \n18       Sarah           22.0               1        18.0        13.0   \n\n    Participation2  Mini_Exam3  Final Grade  \n0                1        10.0   33.0     A  \n1                1        14.0   32.0     A  \n2                1        10.5   33.0    A-  \n3                1        13.0   34.0     A  \n4                1        12.5   33.5     A  \n5                1         8.0   24.0     B  \n6                1         9.0   36.0     A  \n7                1        10.0   32.0    B+  \n8                1        17.0   42.0    A+  \n9                1         9.0   37.0    A-  \n10               1        14.0   30.0     A  \n11               1         5.5   31.0    B-  \n12               1        11.0   34.0     A  \n13               1        10.0   32.0    B+  \n14               1         9.0   31.0     B  \n15               1         8.5   23.0    C+  \n16               1         7.0   31.0     B  \n17               1        13.0   35.0     A  \n18               1         9.0   21.0    C+  ",
            "text/html": "<div>\n<style scoped>\n    .dataframe tbody tr th:only-of-type {\n        vertical-align: middle;\n    }\n\n    .dataframe tbody tr th {\n        vertical-align: top;\n    }\n\n    .dataframe thead th {\n        text-align: right;\n    }\n</style>\n<table border=\"1\" class=\"dataframe\">\n  <thead>\n    <tr style=\"text-align: right;\">\n      <th></th>\n      <th>Name</th>\n      <th>Previous_Part</th>\n      <th>Participation1</th>\n      <th>Mini_Exam1</th>\n      <th>Mini_Exam2</th>\n      <th>Participation2</th>\n      <th>Mini_Exam3</th>\n      <th>Final</th>\n      <th>Grade</th>\n    </tr>\n  </thead>\n  <tbody>\n    <tr>\n      <th>0</th>\n      <td>Jake</td>\n      <td>32.0</td>\n      <td>1</td>\n      <td>19.5</td>\n      <td>20.0</td>\n      <td>1</td>\n      <td>10.0</td>\n      <td>33.0</td>\n      <td>A</td>\n    </tr>\n    <tr>\n      <th>1</th>\n      <td>Joe</td>\n      <td>32.0</td>\n      <td>1</td>\n      <td>20.0</td>\n      <td>16.0</td>\n      <td>1</td>\n      <td>14.0</td>\n      <td>32.0</td>\n      <td>A</td>\n    </tr>\n    <tr>\n      <th>2</th>\n      <td>Susan</td>\n      <td>30.0</td>\n      <td>1</td>\n      <td>19.0</td>\n      <td>19.0</td>\n      <td>1</td>\n      <td>10.5</td>\n      <td>33.0</td>\n      <td>A-</td>\n    </tr>\n    <tr>\n      <th>3</th>\n      <td>Sol</td>\n      <td>31.0</td>\n      <td>1</td>\n      <td>22.0</td>\n      <td>13.0</td>\n      <td>1</td>\n      <td>13.0</td>\n      <td>34.0</td>\n      <td>A</td>\n    </tr>\n    <tr>\n      <th>4</th>\n      <td>Chris</td>\n      <td>30.0</td>\n      <td>1</td>\n      <td>19.0</td>\n      <td>17.0</td>\n      <td>1</td>\n      <td>12.5</td>\n      <td>33.5</td>\n      <td>A</td>\n    </tr>\n    <tr>\n      <th>5</th>\n      <td>Tarik</td>\n      <td>31.0</td>\n      <td>1</td>\n      <td>19.0</td>\n      <td>19.0</td>\n      <td>1</td>\n      <td>8.0</td>\n      <td>24.0</td>\n      <td>B</td>\n    </tr>\n    <tr>\n      <th>6</th>\n      <td>Malik</td>\n      <td>31.5</td>\n      <td>1</td>\n      <td>20.0</td>\n      <td>21.0</td>\n      <td>1</td>\n      <td>9.0</td>\n      <td>36.0</td>\n      <td>A</td>\n    </tr>\n    <tr>\n      <th>7</th>\n      <td>John</td>\n      <td>28.5</td>\n      <td>1</td>\n      <td>20.0</td>\n      <td>18.0</td>\n      <td>1</td>\n      <td>10.0</td>\n      <td>32.0</td>\n      <td>B+</td>\n    </tr>\n    <tr>\n      <th>8</th>\n      <td>Ronaldo</td>\n      <td>33.0</td>\n      <td>1</td>\n      <td>20.0</td>\n      <td>20.0</td>\n      <td>1</td>\n      <td>17.0</td>\n      <td>42.0</td>\n      <td>A+</td>\n    </tr>\n    <tr>\n      <th>9</th>\n      <td>Messi</td>\n      <td>30.5</td>\n      <td>1</td>\n      <td>17.0</td>\n      <td>18.0</td>\n      <td>1</td>\n      <td>9.0</td>\n      <td>37.0</td>\n      <td>A-</td>\n    </tr>\n    <tr>\n      <th>10</th>\n      <td>Michael</td>\n      <td>29.0</td>\n      <td>1</td>\n      <td>20.0</td>\n      <td>20.0</td>\n      <td>1</td>\n      <td>14.0</td>\n      <td>30.0</td>\n      <td>A</td>\n    </tr>\n    <tr>\n      <th>11</th>\n      <td>Jimmy</td>\n      <td>27.5</td>\n      <td>0</td>\n      <td>7.0</td>\n      <td>13.0</td>\n      <td>1</td>\n      <td>5.5</td>\n      <td>31.0</td>\n      <td>B-</td>\n    </tr>\n    <tr>\n      <th>12</th>\n      <td>Charlie</td>\n      <td>32.0</td>\n      <td>1</td>\n      <td>20.0</td>\n      <td>17.0</td>\n      <td>1</td>\n      <td>11.0</td>\n      <td>34.0</td>\n      <td>A</td>\n    </tr>\n    <tr>\n      <th>13</th>\n      <td>Jennifer</td>\n      <td>28.5</td>\n      <td>1</td>\n      <td>19.0</td>\n      <td>18.0</td>\n      <td>1</td>\n      <td>10.0</td>\n      <td>32.0</td>\n      <td>B+</td>\n    </tr>\n    <tr>\n      <th>14</th>\n      <td>Chrinstine</td>\n      <td>29.0</td>\n      <td>1</td>\n      <td>13.0</td>\n      <td>15.5</td>\n      <td>1</td>\n      <td>9.0</td>\n      <td>31.0</td>\n      <td>B</td>\n    </tr>\n    <tr>\n      <th>15</th>\n      <td>Josh</td>\n      <td>23.5</td>\n      <td>1</td>\n      <td>17.0</td>\n      <td>12.0</td>\n      <td>1</td>\n      <td>8.5</td>\n      <td>23.0</td>\n      <td>C+</td>\n    </tr>\n    <tr>\n      <th>16</th>\n      <td>Jackson</td>\n      <td>28.0</td>\n      <td>1</td>\n      <td>18.0</td>\n      <td>15.5</td>\n      <td>1</td>\n      <td>7.0</td>\n      <td>31.0</td>\n      <td>B</td>\n    </tr>\n    <tr>\n      <th>17</th>\n      <td>Vik</td>\n      <td>31.5</td>\n      <td>1</td>\n      <td>15.0</td>\n      <td>19.0</td>\n      <td>1</td>\n      <td>13.0</td>\n      <td>35.0</td>\n      <td>A</td>\n    </tr>\n    <tr>\n      <th>18</th>\n      <td>Sarah</td>\n      <td>22.0</td>\n      <td>1</td>\n      <td>18.0</td>\n      <td>13.0</td>\n      <td>1</td>\n      <td>9.0</td>\n      <td>21.0</td>\n      <td>C+</td>\n    </tr>\n  </tbody>\n</table>\n</div>"
          },
          "metadata": {}
        }
      ],
      "execution_count": 60
    },
    {
      "id": "bc225006-1065-4890-81ae-217abfa09bf8",
      "cell_type": "code",
      "source": "#to know the missing value in each column\ndf_grades.isna().sum()",
      "metadata": {
        "trusted": true
      },
      "outputs": [
        {
          "execution_count": 61,
          "output_type": "execute_result",
          "data": {
            "text/plain": "Name              0\nPrevious_Part     0\nParticipation1    0\nMini_Exam1        0\nMini_Exam2        0\nParticipation2    0\nMini_Exam3        0\nFinal             0\nGrade             0\ndtype: int64"
          },
          "metadata": {}
        }
      ],
      "execution_count": 61
    },
    {
      "id": "645266cf-7540-44d9-8fa6-7511b2a2e083",
      "cell_type": "code",
      "source": "df_grades.fillna(10)",
      "metadata": {
        "trusted": true
      },
      "outputs": [
        {
          "execution_count": 63,
          "output_type": "execute_result",
          "data": {
            "text/plain": "          Name  Previous_Part  Participation1  Mini_Exam1  Mini_Exam2  \\\n0         Jake           32.0               1        19.5        20.0   \n1          Joe           32.0               1        20.0        16.0   \n2        Susan           30.0               1        19.0        19.0   \n3          Sol           31.0               1        22.0        13.0   \n4        Chris           30.0               1        19.0        17.0   \n5        Tarik           31.0               1        19.0        19.0   \n6        Malik           31.5               1        20.0        21.0   \n7         John           28.5               1        20.0        18.0   \n8      Ronaldo           33.0               1        20.0        20.0   \n9        Messi           30.5               1        17.0        18.0   \n10     Michael           29.0               1        20.0        20.0   \n11       Jimmy           27.5               0         7.0        13.0   \n12     Charlie           32.0               1        20.0        17.0   \n13    Jennifer           28.5               1        19.0        18.0   \n14  Chrinstine           29.0               1        13.0        15.5   \n15        Josh           23.5               1        17.0        12.0   \n16     Jackson           28.0               1        18.0        15.5   \n17         Vik           31.5               1        15.0        19.0   \n18       Sarah           22.0               1        18.0        13.0   \n\n    Participation2  Mini_Exam3  Final Grade  \n0                1        10.0   33.0     A  \n1                1        14.0   32.0     A  \n2                1        10.5   33.0    A-  \n3                1        13.0   34.0     A  \n4                1        12.5   33.5     A  \n5                1         8.0   24.0     B  \n6                1         9.0   36.0     A  \n7                1        10.0   32.0    B+  \n8                1        17.0   42.0    A+  \n9                1         9.0   37.0    A-  \n10               1        14.0   30.0     A  \n11               1         5.5   31.0    B-  \n12               1        11.0   34.0     A  \n13               1        10.0   32.0    B+  \n14               1         9.0   31.0     B  \n15               1         8.5   23.0    C+  \n16               1         7.0   31.0     B  \n17               1        13.0   35.0     A  \n18               1         9.0   21.0    C+  ",
            "text/html": "<div>\n<style scoped>\n    .dataframe tbody tr th:only-of-type {\n        vertical-align: middle;\n    }\n\n    .dataframe tbody tr th {\n        vertical-align: top;\n    }\n\n    .dataframe thead th {\n        text-align: right;\n    }\n</style>\n<table border=\"1\" class=\"dataframe\">\n  <thead>\n    <tr style=\"text-align: right;\">\n      <th></th>\n      <th>Name</th>\n      <th>Previous_Part</th>\n      <th>Participation1</th>\n      <th>Mini_Exam1</th>\n      <th>Mini_Exam2</th>\n      <th>Participation2</th>\n      <th>Mini_Exam3</th>\n      <th>Final</th>\n      <th>Grade</th>\n    </tr>\n  </thead>\n  <tbody>\n    <tr>\n      <th>0</th>\n      <td>Jake</td>\n      <td>32.0</td>\n      <td>1</td>\n      <td>19.5</td>\n      <td>20.0</td>\n      <td>1</td>\n      <td>10.0</td>\n      <td>33.0</td>\n      <td>A</td>\n    </tr>\n    <tr>\n      <th>1</th>\n      <td>Joe</td>\n      <td>32.0</td>\n      <td>1</td>\n      <td>20.0</td>\n      <td>16.0</td>\n      <td>1</td>\n      <td>14.0</td>\n      <td>32.0</td>\n      <td>A</td>\n    </tr>\n    <tr>\n      <th>2</th>\n      <td>Susan</td>\n      <td>30.0</td>\n      <td>1</td>\n      <td>19.0</td>\n      <td>19.0</td>\n      <td>1</td>\n      <td>10.5</td>\n      <td>33.0</td>\n      <td>A-</td>\n    </tr>\n    <tr>\n      <th>3</th>\n      <td>Sol</td>\n      <td>31.0</td>\n      <td>1</td>\n      <td>22.0</td>\n      <td>13.0</td>\n      <td>1</td>\n      <td>13.0</td>\n      <td>34.0</td>\n      <td>A</td>\n    </tr>\n    <tr>\n      <th>4</th>\n      <td>Chris</td>\n      <td>30.0</td>\n      <td>1</td>\n      <td>19.0</td>\n      <td>17.0</td>\n      <td>1</td>\n      <td>12.5</td>\n      <td>33.5</td>\n      <td>A</td>\n    </tr>\n    <tr>\n      <th>5</th>\n      <td>Tarik</td>\n      <td>31.0</td>\n      <td>1</td>\n      <td>19.0</td>\n      <td>19.0</td>\n      <td>1</td>\n      <td>8.0</td>\n      <td>24.0</td>\n      <td>B</td>\n    </tr>\n    <tr>\n      <th>6</th>\n      <td>Malik</td>\n      <td>31.5</td>\n      <td>1</td>\n      <td>20.0</td>\n      <td>21.0</td>\n      <td>1</td>\n      <td>9.0</td>\n      <td>36.0</td>\n      <td>A</td>\n    </tr>\n    <tr>\n      <th>7</th>\n      <td>John</td>\n      <td>28.5</td>\n      <td>1</td>\n      <td>20.0</td>\n      <td>18.0</td>\n      <td>1</td>\n      <td>10.0</td>\n      <td>32.0</td>\n      <td>B+</td>\n    </tr>\n    <tr>\n      <th>8</th>\n      <td>Ronaldo</td>\n      <td>33.0</td>\n      <td>1</td>\n      <td>20.0</td>\n      <td>20.0</td>\n      <td>1</td>\n      <td>17.0</td>\n      <td>42.0</td>\n      <td>A+</td>\n    </tr>\n    <tr>\n      <th>9</th>\n      <td>Messi</td>\n      <td>30.5</td>\n      <td>1</td>\n      <td>17.0</td>\n      <td>18.0</td>\n      <td>1</td>\n      <td>9.0</td>\n      <td>37.0</td>\n      <td>A-</td>\n    </tr>\n    <tr>\n      <th>10</th>\n      <td>Michael</td>\n      <td>29.0</td>\n      <td>1</td>\n      <td>20.0</td>\n      <td>20.0</td>\n      <td>1</td>\n      <td>14.0</td>\n      <td>30.0</td>\n      <td>A</td>\n    </tr>\n    <tr>\n      <th>11</th>\n      <td>Jimmy</td>\n      <td>27.5</td>\n      <td>0</td>\n      <td>7.0</td>\n      <td>13.0</td>\n      <td>1</td>\n      <td>5.5</td>\n      <td>31.0</td>\n      <td>B-</td>\n    </tr>\n    <tr>\n      <th>12</th>\n      <td>Charlie</td>\n      <td>32.0</td>\n      <td>1</td>\n      <td>20.0</td>\n      <td>17.0</td>\n      <td>1</td>\n      <td>11.0</td>\n      <td>34.0</td>\n      <td>A</td>\n    </tr>\n    <tr>\n      <th>13</th>\n      <td>Jennifer</td>\n      <td>28.5</td>\n      <td>1</td>\n      <td>19.0</td>\n      <td>18.0</td>\n      <td>1</td>\n      <td>10.0</td>\n      <td>32.0</td>\n      <td>B+</td>\n    </tr>\n    <tr>\n      <th>14</th>\n      <td>Chrinstine</td>\n      <td>29.0</td>\n      <td>1</td>\n      <td>13.0</td>\n      <td>15.5</td>\n      <td>1</td>\n      <td>9.0</td>\n      <td>31.0</td>\n      <td>B</td>\n    </tr>\n    <tr>\n      <th>15</th>\n      <td>Josh</td>\n      <td>23.5</td>\n      <td>1</td>\n      <td>17.0</td>\n      <td>12.0</td>\n      <td>1</td>\n      <td>8.5</td>\n      <td>23.0</td>\n      <td>C+</td>\n    </tr>\n    <tr>\n      <th>16</th>\n      <td>Jackson</td>\n      <td>28.0</td>\n      <td>1</td>\n      <td>18.0</td>\n      <td>15.5</td>\n      <td>1</td>\n      <td>7.0</td>\n      <td>31.0</td>\n      <td>B</td>\n    </tr>\n    <tr>\n      <th>17</th>\n      <td>Vik</td>\n      <td>31.5</td>\n      <td>1</td>\n      <td>15.0</td>\n      <td>19.0</td>\n      <td>1</td>\n      <td>13.0</td>\n      <td>35.0</td>\n      <td>A</td>\n    </tr>\n    <tr>\n      <th>18</th>\n      <td>Sarah</td>\n      <td>22.0</td>\n      <td>1</td>\n      <td>18.0</td>\n      <td>13.0</td>\n      <td>1</td>\n      <td>9.0</td>\n      <td>21.0</td>\n      <td>C+</td>\n    </tr>\n  </tbody>\n</table>\n</div>"
          },
          "metadata": {}
        }
      ],
      "execution_count": 63
    }
  ]
}